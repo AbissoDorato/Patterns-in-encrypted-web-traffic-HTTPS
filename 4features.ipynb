{
 "cells": [
  {
   "cell_type": "code",
   "execution_count": 1,
   "id": "e56c58b3-9fd3-4402-8a07-f7c3bcd5c0d8",
   "metadata": {},
   "outputs": [
    {
     "name": "stderr",
     "output_type": "stream",
     "text": [
      "2024-01-29 00:31:04.921799: I tensorflow/tsl/cuda/cudart_stub.cc:28] Could not find cuda drivers on your machine, GPU will not be used.\n",
      "2024-01-29 00:31:04.968803: I tensorflow/tsl/cuda/cudart_stub.cc:28] Could not find cuda drivers on your machine, GPU will not be used.\n",
      "2024-01-29 00:31:04.969875: I tensorflow/core/platform/cpu_feature_guard.cc:182] This TensorFlow binary is optimized to use available CPU instructions in performance-critical operations.\n",
      "To enable the following instructions: AVX2 AVX512F FMA, in other operations, rebuild TensorFlow with the appropriate compiler flags.\n",
      "2024-01-29 00:31:05.818520: W tensorflow/compiler/tf2tensorrt/utils/py_utils.cc:38] TF-TRT Warning: Could not find TensorRT\n"
     ]
    }
   ],
   "source": [
    "import pandas as pd\n",
    "import matplotlib.pyplot as plt\n",
    "import seaborn as sns\n",
    "import numpy as np\n",
    "from sklearn.preprocessing import StandardScaler, LabelEncoder, MinMaxScaler\n",
    "from sklearn.ensemble import RandomForestClassifier, IsolationForest\n",
    "from sklearn.metrics import accuracy_score, classification_report, confusion_matrix, ConfusionMatrixDisplay\n",
    "from sklearn.decomposition import PCA\n",
    "from sklearn.manifold import TSNE\n",
    "from sklearn.model_selection import train_test_split\n",
    "from sklearn.svm import SVC\n",
    "from sklearn.ensemble import GradientBoostingClassifier\n",
    "from sklearn.model_selection import GridSearchCV, cross_val_score, StratifiedKFold\n",
    "from sklearn.linear_model import SGDClassifier, LogisticRegression\n",
    "from sklearn.neighbors import KNeighborsClassifier\n",
    "from sklearn.model_selection import validation_curve, learning_curve\n",
    "from sklearn.cluster import KMeans, SpectralClustering\n",
    "from sklearn.metrics import silhouette_samples, silhouette_score, davies_bouldin_score, make_scorer\n",
    "from sklearn.metrics import calinski_harabasz_score, adjusted_rand_score, jaccard_score, fowlkes_mallows_score\n",
    "import math\n",
    "from sklearn.linear_model import Lasso\n",
    "from itertools import product\n",
    "from tensorflow.keras.models import Sequential\n",
    "from tensorflow.keras.layers import Dense, Dropout"
   ]
  },
  {
   "cell_type": "code",
   "execution_count": 2,
   "id": "9fe4e65d-326f-4a00-a83d-2b8476d966ce",
   "metadata": {},
   "outputs": [],
   "source": [
    "def plot_learning_curve(estimator, X, y, title=\"Learning Curve\"):\n",
    "    train_sizes, train_scores, test_scores = learning_curve(\n",
    "        estimator, X, y, cv=5, n_jobs=-1, train_sizes=np.linspace(0.1, 1.0, 10)\n",
    "    )\n",
    "\n",
    "    train_scores_mean = np.mean(train_scores, axis=1)\n",
    "    train_scores_std = np.std(train_scores, axis=1)\n",
    "    test_scores_mean = np.mean(test_scores, axis=1)\n",
    "    test_scores_std = np.std(test_scores, axis=1)\n",
    "\n",
    "    plt.figure()\n",
    "    plt.title(title)\n",
    "    plt.xlabel(\"Training examples\")\n",
    "    plt.ylabel(\"Score\")\n",
    "    plt.grid()\n",
    "\n",
    "    plt.fill_between(\n",
    "        train_sizes,\n",
    "        train_scores_mean - train_scores_std,\n",
    "        train_scores_mean + train_scores_std,\n",
    "        alpha=0.1,\n",
    "        color=\"r\",\n",
    "    )\n",
    "    plt.fill_between(\n",
    "        train_sizes,\n",
    "        test_scores_mean - test_scores_std,\n",
    "        test_scores_mean + test_scores_std,\n",
    "        alpha=0.1,\n",
    "        color=\"g\",\n",
    "    )\n",
    "\n",
    "    plt.plot(train_sizes, train_scores_mean, \"o-\", color=\"r\", label=\"Training score\")\n",
    "    plt.plot(train_sizes, test_scores_mean, \"o-\", color=\"g\", label=\"Cross-validation score\")\n",
    "\n",
    "    plt.legend(loc=\"best\")\n",
    "    plt.grid(True)\n",
    "    \n",
    "    return plt"
   ]
  },
  {
   "cell_type": "code",
   "execution_count": 3,
   "id": "9cdbff05-6c28-41e0-a8d3-166d05de1691",
   "metadata": {},
   "outputs": [],
   "source": [
    "n_jobs=-1\n",
    "sns.set_theme()"
   ]
  },
  {
   "cell_type": "code",
   "execution_count": 4,
   "id": "ad63b2bd-a09f-4b77-8f2f-31c0dd60f71f",
   "metadata": {},
   "outputs": [
    {
     "data": {
      "text/html": [
       "<div>\n",
       "<style scoped>\n",
       "    .dataframe tbody tr th:only-of-type {\n",
       "        vertical-align: middle;\n",
       "    }\n",
       "\n",
       "    .dataframe tbody tr th {\n",
       "        vertical-align: top;\n",
       "    }\n",
       "\n",
       "    .dataframe thead th {\n",
       "        text-align: right;\n",
       "    }\n",
       "</style>\n",
       "<table border=\"1\" class=\"dataframe\">\n",
       "  <thead>\n",
       "    <tr style=\"text-align: right;\">\n",
       "      <th></th>\n",
       "      <th>_c_ack_cnt</th>\n",
       "      <th>_c_ack_cnt_p</th>\n",
       "      <th>_c_appdataB</th>\n",
       "      <th>_c_appdataT</th>\n",
       "      <th>_c_bytes_all</th>\n",
       "      <th>_c_bytes_retx</th>\n",
       "      <th>_c_bytes_uniq</th>\n",
       "      <th>_c_cwin_ini</th>\n",
       "      <th>_c_cwin_max</th>\n",
       "      <th>_c_cwin_min</th>\n",
       "      <th>...</th>\n",
       "      <th>_s_ttl_max</th>\n",
       "      <th>_s_ttl_min</th>\n",
       "      <th>_s_win_0</th>\n",
       "      <th>_s_win_max</th>\n",
       "      <th>_s_win_min</th>\n",
       "      <th>_s_win_scl</th>\n",
       "      <th>_tls_session_stat</th>\n",
       "      <th>c_ip</th>\n",
       "      <th>time</th>\n",
       "      <th>label</th>\n",
       "    </tr>\n",
       "  </thead>\n",
       "  <tbody>\n",
       "    <tr>\n",
       "      <th>0</th>\n",
       "      <td>8.0</td>\n",
       "      <td>4.0</td>\n",
       "      <td>569.0</td>\n",
       "      <td>522.003</td>\n",
       "      <td>1672.0</td>\n",
       "      <td>0.0</td>\n",
       "      <td>1672.0</td>\n",
       "      <td>517.0</td>\n",
       "      <td>590.0</td>\n",
       "      <td>51.0</td>\n",
       "      <td>...</td>\n",
       "      <td>59.0</td>\n",
       "      <td>59.0</td>\n",
       "      <td>0.0</td>\n",
       "      <td>31232.0</td>\n",
       "      <td>27680.0</td>\n",
       "      <td>9.0</td>\n",
       "      <td>1.0</td>\n",
       "      <td>67.32.225.92</td>\n",
       "      <td>1.561932e+09</td>\n",
       "      <td>krxd.net</td>\n",
       "    </tr>\n",
       "    <tr>\n",
       "      <th>1</th>\n",
       "      <td>10.0</td>\n",
       "      <td>7.0</td>\n",
       "      <td>275.0</td>\n",
       "      <td>39.504</td>\n",
       "      <td>636.0</td>\n",
       "      <td>0.0</td>\n",
       "      <td>636.0</td>\n",
       "      <td>181.0</td>\n",
       "      <td>362.0</td>\n",
       "      <td>1.0</td>\n",
       "      <td>...</td>\n",
       "      <td>59.0</td>\n",
       "      <td>59.0</td>\n",
       "      <td>0.0</td>\n",
       "      <td>29480.0</td>\n",
       "      <td>27680.0</td>\n",
       "      <td>0.0</td>\n",
       "      <td>0.0</td>\n",
       "      <td>67.32.181.213</td>\n",
       "      <td>1.561932e+09</td>\n",
       "      <td>other</td>\n",
       "    </tr>\n",
       "    <tr>\n",
       "      <th>2</th>\n",
       "      <td>7.0</td>\n",
       "      <td>3.0</td>\n",
       "      <td>569.0</td>\n",
       "      <td>110.003</td>\n",
       "      <td>3325.0</td>\n",
       "      <td>0.0</td>\n",
       "      <td>3325.0</td>\n",
       "      <td>517.0</td>\n",
       "      <td>1435.0</td>\n",
       "      <td>51.0</td>\n",
       "      <td>...</td>\n",
       "      <td>59.0</td>\n",
       "      <td>59.0</td>\n",
       "      <td>0.0</td>\n",
       "      <td>34304.0</td>\n",
       "      <td>27680.0</td>\n",
       "      <td>9.0</td>\n",
       "      <td>1.0</td>\n",
       "      <td>67.32.225.92</td>\n",
       "      <td>1.561932e+09</td>\n",
       "      <td>contextweb.com</td>\n",
       "    </tr>\n",
       "    <tr>\n",
       "      <th>3</th>\n",
       "      <td>8.0</td>\n",
       "      <td>3.0</td>\n",
       "      <td>453.0</td>\n",
       "      <td>8.813</td>\n",
       "      <td>958.0</td>\n",
       "      <td>0.0</td>\n",
       "      <td>958.0</td>\n",
       "      <td>401.0</td>\n",
       "      <td>557.0</td>\n",
       "      <td>1.0</td>\n",
       "      <td>...</td>\n",
       "      <td>59.0</td>\n",
       "      <td>59.0</td>\n",
       "      <td>0.0</td>\n",
       "      <td>30208.0</td>\n",
       "      <td>27920.0</td>\n",
       "      <td>9.0</td>\n",
       "      <td>0.0</td>\n",
       "      <td>67.32.124.163</td>\n",
       "      <td>1.561932e+09</td>\n",
       "      <td>twitchcdn.net</td>\n",
       "    </tr>\n",
       "    <tr>\n",
       "      <th>4</th>\n",
       "      <td>6.0</td>\n",
       "      <td>2.0</td>\n",
       "      <td>0.0</td>\n",
       "      <td>0.000</td>\n",
       "      <td>452.0</td>\n",
       "      <td>0.0</td>\n",
       "      <td>452.0</td>\n",
       "      <td>401.0</td>\n",
       "      <td>401.0</td>\n",
       "      <td>1.0</td>\n",
       "      <td>...</td>\n",
       "      <td>59.0</td>\n",
       "      <td>59.0</td>\n",
       "      <td>0.0</td>\n",
       "      <td>29184.0</td>\n",
       "      <td>27920.0</td>\n",
       "      <td>9.0</td>\n",
       "      <td>0.0</td>\n",
       "      <td>67.32.124.163</td>\n",
       "      <td>1.561932e+09</td>\n",
       "      <td>twitchcdn.net</td>\n",
       "    </tr>\n",
       "    <tr>\n",
       "      <th>...</th>\n",
       "      <td>...</td>\n",
       "      <td>...</td>\n",
       "      <td>...</td>\n",
       "      <td>...</td>\n",
       "      <td>...</td>\n",
       "      <td>...</td>\n",
       "      <td>...</td>\n",
       "      <td>...</td>\n",
       "      <td>...</td>\n",
       "      <td>...</td>\n",
       "      <td>...</td>\n",
       "      <td>...</td>\n",
       "      <td>...</td>\n",
       "      <td>...</td>\n",
       "      <td>...</td>\n",
       "      <td>...</td>\n",
       "      <td>...</td>\n",
       "      <td>...</td>\n",
       "      <td>...</td>\n",
       "      <td>...</td>\n",
       "      <td>...</td>\n",
       "    </tr>\n",
       "    <tr>\n",
       "      <th>262438</th>\n",
       "      <td>27.0</td>\n",
       "      <td>7.0</td>\n",
       "      <td>611.0</td>\n",
       "      <td>16.013</td>\n",
       "      <td>2965.0</td>\n",
       "      <td>13.0</td>\n",
       "      <td>2952.0</td>\n",
       "      <td>517.0</td>\n",
       "      <td>2397.0</td>\n",
       "      <td>38.0</td>\n",
       "      <td>...</td>\n",
       "      <td>59.0</td>\n",
       "      <td>59.0</td>\n",
       "      <td>0.0</td>\n",
       "      <td>34816.0</td>\n",
       "      <td>27920.0</td>\n",
       "      <td>9.0</td>\n",
       "      <td>1.0</td>\n",
       "      <td>67.32.51.91</td>\n",
       "      <td>1.562018e+09</td>\n",
       "      <td>other</td>\n",
       "    </tr>\n",
       "    <tr>\n",
       "      <th>262439</th>\n",
       "      <td>13.0</td>\n",
       "      <td>2.0</td>\n",
       "      <td>569.0</td>\n",
       "      <td>10.008</td>\n",
       "      <td>1425.0</td>\n",
       "      <td>6.0</td>\n",
       "      <td>1419.0</td>\n",
       "      <td>517.0</td>\n",
       "      <td>902.0</td>\n",
       "      <td>51.0</td>\n",
       "      <td>...</td>\n",
       "      <td>59.0</td>\n",
       "      <td>59.0</td>\n",
       "      <td>0.0</td>\n",
       "      <td>30720.0</td>\n",
       "      <td>27920.0</td>\n",
       "      <td>9.0</td>\n",
       "      <td>1.0</td>\n",
       "      <td>67.32.124.70</td>\n",
       "      <td>1.562018e+09</td>\n",
       "      <td>krxd.net</td>\n",
       "    </tr>\n",
       "    <tr>\n",
       "      <th>262440</th>\n",
       "      <td>7.0</td>\n",
       "      <td>3.0</td>\n",
       "      <td>611.0</td>\n",
       "      <td>24.000</td>\n",
       "      <td>997.0</td>\n",
       "      <td>0.0</td>\n",
       "      <td>997.0</td>\n",
       "      <td>517.0</td>\n",
       "      <td>517.0</td>\n",
       "      <td>93.0</td>\n",
       "      <td>...</td>\n",
       "      <td>59.0</td>\n",
       "      <td>59.0</td>\n",
       "      <td>0.0</td>\n",
       "      <td>30208.0</td>\n",
       "      <td>27680.0</td>\n",
       "      <td>9.0</td>\n",
       "      <td>1.0</td>\n",
       "      <td>67.32.35.141</td>\n",
       "      <td>1.562018e+09</td>\n",
       "      <td>other</td>\n",
       "    </tr>\n",
       "    <tr>\n",
       "      <th>262441</th>\n",
       "      <td>7.0</td>\n",
       "      <td>3.0</td>\n",
       "      <td>0.0</td>\n",
       "      <td>0.000</td>\n",
       "      <td>610.0</td>\n",
       "      <td>0.0</td>\n",
       "      <td>610.0</td>\n",
       "      <td>517.0</td>\n",
       "      <td>517.0</td>\n",
       "      <td>93.0</td>\n",
       "      <td>...</td>\n",
       "      <td>59.0</td>\n",
       "      <td>59.0</td>\n",
       "      <td>0.0</td>\n",
       "      <td>29184.0</td>\n",
       "      <td>27920.0</td>\n",
       "      <td>9.0</td>\n",
       "      <td>1.0</td>\n",
       "      <td>67.32.124.70</td>\n",
       "      <td>1.562018e+09</td>\n",
       "      <td>krxd.net</td>\n",
       "    </tr>\n",
       "    <tr>\n",
       "      <th>262442</th>\n",
       "      <td>10.0</td>\n",
       "      <td>5.0</td>\n",
       "      <td>341.0</td>\n",
       "      <td>16.006</td>\n",
       "      <td>540.0</td>\n",
       "      <td>0.0</td>\n",
       "      <td>540.0</td>\n",
       "      <td>247.0</td>\n",
       "      <td>247.0</td>\n",
       "      <td>31.0</td>\n",
       "      <td>...</td>\n",
       "      <td>59.0</td>\n",
       "      <td>59.0</td>\n",
       "      <td>0.0</td>\n",
       "      <td>30208.0</td>\n",
       "      <td>27680.0</td>\n",
       "      <td>9.0</td>\n",
       "      <td>1.0</td>\n",
       "      <td>67.32.63.4</td>\n",
       "      <td>1.562019e+09</td>\n",
       "      <td>githubusercontent.com</td>\n",
       "    </tr>\n",
       "  </tbody>\n",
       "</table>\n",
       "<p>262443 rows × 123 columns</p>\n",
       "</div>"
      ],
      "text/plain": [
       "        _c_ack_cnt  _c_ack_cnt_p  _c_appdataB  _c_appdataT  _c_bytes_all  \\\n",
       "0              8.0           4.0        569.0      522.003        1672.0   \n",
       "1             10.0           7.0        275.0       39.504         636.0   \n",
       "2              7.0           3.0        569.0      110.003        3325.0   \n",
       "3              8.0           3.0        453.0        8.813         958.0   \n",
       "4              6.0           2.0          0.0        0.000         452.0   \n",
       "...            ...           ...          ...          ...           ...   \n",
       "262438        27.0           7.0        611.0       16.013        2965.0   \n",
       "262439        13.0           2.0        569.0       10.008        1425.0   \n",
       "262440         7.0           3.0        611.0       24.000         997.0   \n",
       "262441         7.0           3.0          0.0        0.000         610.0   \n",
       "262442        10.0           5.0        341.0       16.006         540.0   \n",
       "\n",
       "        _c_bytes_retx  _c_bytes_uniq  _c_cwin_ini  _c_cwin_max  _c_cwin_min  \\\n",
       "0                 0.0         1672.0        517.0        590.0         51.0   \n",
       "1                 0.0          636.0        181.0        362.0          1.0   \n",
       "2                 0.0         3325.0        517.0       1435.0         51.0   \n",
       "3                 0.0          958.0        401.0        557.0          1.0   \n",
       "4                 0.0          452.0        401.0        401.0          1.0   \n",
       "...               ...            ...          ...          ...          ...   \n",
       "262438           13.0         2952.0        517.0       2397.0         38.0   \n",
       "262439            6.0         1419.0        517.0        902.0         51.0   \n",
       "262440            0.0          997.0        517.0        517.0         93.0   \n",
       "262441            0.0          610.0        517.0        517.0         93.0   \n",
       "262442            0.0          540.0        247.0        247.0         31.0   \n",
       "\n",
       "        ...  _s_ttl_max  _s_ttl_min  _s_win_0  _s_win_max  _s_win_min  \\\n",
       "0       ...        59.0        59.0       0.0     31232.0     27680.0   \n",
       "1       ...        59.0        59.0       0.0     29480.0     27680.0   \n",
       "2       ...        59.0        59.0       0.0     34304.0     27680.0   \n",
       "3       ...        59.0        59.0       0.0     30208.0     27920.0   \n",
       "4       ...        59.0        59.0       0.0     29184.0     27920.0   \n",
       "...     ...         ...         ...       ...         ...         ...   \n",
       "262438  ...        59.0        59.0       0.0     34816.0     27920.0   \n",
       "262439  ...        59.0        59.0       0.0     30720.0     27920.0   \n",
       "262440  ...        59.0        59.0       0.0     30208.0     27680.0   \n",
       "262441  ...        59.0        59.0       0.0     29184.0     27920.0   \n",
       "262442  ...        59.0        59.0       0.0     30208.0     27680.0   \n",
       "\n",
       "        _s_win_scl  _tls_session_stat           c_ip          time  \\\n",
       "0              9.0                1.0   67.32.225.92  1.561932e+09   \n",
       "1              0.0                0.0  67.32.181.213  1.561932e+09   \n",
       "2              9.0                1.0   67.32.225.92  1.561932e+09   \n",
       "3              9.0                0.0  67.32.124.163  1.561932e+09   \n",
       "4              9.0                0.0  67.32.124.163  1.561932e+09   \n",
       "...            ...                ...            ...           ...   \n",
       "262438         9.0                1.0    67.32.51.91  1.562018e+09   \n",
       "262439         9.0                1.0   67.32.124.70  1.562018e+09   \n",
       "262440         9.0                1.0   67.32.35.141  1.562018e+09   \n",
       "262441         9.0                1.0   67.32.124.70  1.562018e+09   \n",
       "262442         9.0                1.0     67.32.63.4  1.562019e+09   \n",
       "\n",
       "                        label  \n",
       "0                    krxd.net  \n",
       "1                       other  \n",
       "2              contextweb.com  \n",
       "3               twitchcdn.net  \n",
       "4               twitchcdn.net  \n",
       "...                       ...  \n",
       "262438                  other  \n",
       "262439               krxd.net  \n",
       "262440                  other  \n",
       "262441               krxd.net  \n",
       "262442  githubusercontent.com  \n",
       "\n",
       "[262443 rows x 123 columns]"
      ]
     },
     "execution_count": 4,
     "metadata": {},
     "output_type": "execute_result"
    }
   ],
   "source": [
    "df_training = pd.read_csv('https_training.csv')\n",
    "df_test = pd.read_csv('https_test.csv')\n",
    "df = pd.concat([df_training, df_test], ignore_index=True)\n",
    "df.loc[df['label'] == \"_other\", 'label'] = \"other\" # Variables that starts with _ generate error with t-SNE\n",
    "df"
   ]
  },
  {
   "cell_type": "code",
   "execution_count": 5,
   "id": "a8faffb4-24af-470c-aedd-9719b0e6271d",
   "metadata": {},
   "outputs": [
    {
     "data": {
      "text/html": [
       "<div>\n",
       "<style scoped>\n",
       "    .dataframe tbody tr th:only-of-type {\n",
       "        vertical-align: middle;\n",
       "    }\n",
       "\n",
       "    .dataframe tbody tr th {\n",
       "        vertical-align: top;\n",
       "    }\n",
       "\n",
       "    .dataframe thead th {\n",
       "        text-align: right;\n",
       "    }\n",
       "</style>\n",
       "<table border=\"1\" class=\"dataframe\">\n",
       "  <thead>\n",
       "    <tr style=\"text-align: right;\">\n",
       "      <th></th>\n",
       "      <th>_c_appdataB</th>\n",
       "      <th>_s_appdataB</th>\n",
       "      <th>_s_pkts_data_avg</th>\n",
       "      <th>_c_pkts_data_avg</th>\n",
       "    </tr>\n",
       "  </thead>\n",
       "  <tbody>\n",
       "    <tr>\n",
       "      <th>0</th>\n",
       "      <td>569.0</td>\n",
       "      <td>161.0</td>\n",
       "      <td>516.500000</td>\n",
       "      <td>418.000000</td>\n",
       "    </tr>\n",
       "    <tr>\n",
       "      <th>1</th>\n",
       "      <td>275.0</td>\n",
       "      <td>7033.0</td>\n",
       "      <td>980.625000</td>\n",
       "      <td>212.000000</td>\n",
       "    </tr>\n",
       "    <tr>\n",
       "      <th>2</th>\n",
       "      <td>569.0</td>\n",
       "      <td>161.0</td>\n",
       "      <td>756.500000</td>\n",
       "      <td>831.250000</td>\n",
       "    </tr>\n",
       "    <tr>\n",
       "      <th>3</th>\n",
       "      <td>453.0</td>\n",
       "      <td>129.0</td>\n",
       "      <td>276.000000</td>\n",
       "      <td>319.333333</td>\n",
       "    </tr>\n",
       "    <tr>\n",
       "      <th>4</th>\n",
       "      <td>0.0</td>\n",
       "      <td>0.0</td>\n",
       "      <td>128.000000</td>\n",
       "      <td>226.000000</td>\n",
       "    </tr>\n",
       "    <tr>\n",
       "      <th>...</th>\n",
       "      <td>...</td>\n",
       "      <td>...</td>\n",
       "      <td>...</td>\n",
       "      <td>...</td>\n",
       "    </tr>\n",
       "    <tr>\n",
       "      <th>262438</th>\n",
       "      <td>611.0</td>\n",
       "      <td>7415.0</td>\n",
       "      <td>718.272727</td>\n",
       "      <td>156.052632</td>\n",
       "    </tr>\n",
       "    <tr>\n",
       "      <th>262439</th>\n",
       "      <td>569.0</td>\n",
       "      <td>161.0</td>\n",
       "      <td>306.000000</td>\n",
       "      <td>158.333333</td>\n",
       "    </tr>\n",
       "    <tr>\n",
       "      <th>262440</th>\n",
       "      <td>611.0</td>\n",
       "      <td>4555.0</td>\n",
       "      <td>794.142857</td>\n",
       "      <td>332.333333</td>\n",
       "    </tr>\n",
       "    <tr>\n",
       "      <th>262441</th>\n",
       "      <td>0.0</td>\n",
       "      <td>0.0</td>\n",
       "      <td>1105.400000</td>\n",
       "      <td>305.000000</td>\n",
       "    </tr>\n",
       "    <tr>\n",
       "      <th>262442</th>\n",
       "      <td>341.0</td>\n",
       "      <td>4154.0</td>\n",
       "      <td>858.500000</td>\n",
       "      <td>135.000000</td>\n",
       "    </tr>\n",
       "  </tbody>\n",
       "</table>\n",
       "<p>262443 rows × 4 columns</p>\n",
       "</div>"
      ],
      "text/plain": [
       "        _c_appdataB  _s_appdataB  _s_pkts_data_avg  _c_pkts_data_avg\n",
       "0             569.0        161.0        516.500000        418.000000\n",
       "1             275.0       7033.0        980.625000        212.000000\n",
       "2             569.0        161.0        756.500000        831.250000\n",
       "3             453.0        129.0        276.000000        319.333333\n",
       "4               0.0          0.0        128.000000        226.000000\n",
       "...             ...          ...               ...               ...\n",
       "262438        611.0       7415.0        718.272727        156.052632\n",
       "262439        569.0        161.0        306.000000        158.333333\n",
       "262440        611.0       4555.0        794.142857        332.333333\n",
       "262441          0.0          0.0       1105.400000        305.000000\n",
       "262442        341.0       4154.0        858.500000        135.000000\n",
       "\n",
       "[262443 rows x 4 columns]"
      ]
     },
     "execution_count": 5,
     "metadata": {},
     "output_type": "execute_result"
    }
   ],
   "source": [
    "four_df = df[['_c_appdataB', '_s_appdataB', '_s_pkts_data_avg', '_c_pkts_data_avg']]\n",
    "four_df"
   ]
  },
  {
   "cell_type": "code",
   "execution_count": 6,
   "id": "c4d4c640-1334-442b-91c1-6bbb739e3c86",
   "metadata": {},
   "outputs": [
    {
     "data": {
      "text/html": [
       "<div>\n",
       "<style scoped>\n",
       "    .dataframe tbody tr th:only-of-type {\n",
       "        vertical-align: middle;\n",
       "    }\n",
       "\n",
       "    .dataframe tbody tr th {\n",
       "        vertical-align: top;\n",
       "    }\n",
       "\n",
       "    .dataframe thead th {\n",
       "        text-align: right;\n",
       "    }\n",
       "</style>\n",
       "<table border=\"1\" class=\"dataframe\">\n",
       "  <thead>\n",
       "    <tr style=\"text-align: right;\">\n",
       "      <th></th>\n",
       "      <th>_c_appdataB</th>\n",
       "      <th>_s_appdataB</th>\n",
       "      <th>_s_pkts_data_avg</th>\n",
       "      <th>_c_pkts_data_avg</th>\n",
       "      <th>label</th>\n",
       "    </tr>\n",
       "  </thead>\n",
       "  <tbody>\n",
       "    <tr>\n",
       "      <th>0</th>\n",
       "      <td>0.574035</td>\n",
       "      <td>-1.106620</td>\n",
       "      <td>-0.970144</td>\n",
       "      <td>0.838752</td>\n",
       "      <td>krxd.net</td>\n",
       "    </tr>\n",
       "    <tr>\n",
       "      <th>1</th>\n",
       "      <td>-0.605697</td>\n",
       "      <td>1.315792</td>\n",
       "      <td>0.248992</td>\n",
       "      <td>-0.349889</td>\n",
       "      <td>other</td>\n",
       "    </tr>\n",
       "    <tr>\n",
       "      <th>2</th>\n",
       "      <td>0.574035</td>\n",
       "      <td>-1.106620</td>\n",
       "      <td>-0.339726</td>\n",
       "      <td>3.223248</td>\n",
       "      <td>contextweb.com</td>\n",
       "    </tr>\n",
       "    <tr>\n",
       "      <th>3</th>\n",
       "      <td>0.108562</td>\n",
       "      <td>-1.117900</td>\n",
       "      <td>-1.601875</td>\n",
       "      <td>0.269435</td>\n",
       "      <td>twitchcdn.net</td>\n",
       "    </tr>\n",
       "    <tr>\n",
       "      <th>4</th>\n",
       "      <td>-1.709188</td>\n",
       "      <td>-1.163373</td>\n",
       "      <td>-1.990632</td>\n",
       "      <td>-0.269108</td>\n",
       "      <td>twitchcdn.net</td>\n",
       "    </tr>\n",
       "    <tr>\n",
       "      <th>...</th>\n",
       "      <td>...</td>\n",
       "      <td>...</td>\n",
       "      <td>...</td>\n",
       "      <td>...</td>\n",
       "      <td>...</td>\n",
       "    </tr>\n",
       "    <tr>\n",
       "      <th>262438</th>\n",
       "      <td>0.742568</td>\n",
       "      <td>1.450449</td>\n",
       "      <td>-0.440139</td>\n",
       "      <td>-0.672712</td>\n",
       "      <td>other</td>\n",
       "    </tr>\n",
       "    <tr>\n",
       "      <th>262439</th>\n",
       "      <td>0.574035</td>\n",
       "      <td>-1.106620</td>\n",
       "      <td>-1.523073</td>\n",
       "      <td>-0.659552</td>\n",
       "      <td>krxd.net</td>\n",
       "    </tr>\n",
       "    <tr>\n",
       "      <th>262440</th>\n",
       "      <td>0.742568</td>\n",
       "      <td>0.442285</td>\n",
       "      <td>-0.240848</td>\n",
       "      <td>0.344447</td>\n",
       "      <td>other</td>\n",
       "    </tr>\n",
       "    <tr>\n",
       "      <th>262441</th>\n",
       "      <td>-1.709188</td>\n",
       "      <td>-1.163373</td>\n",
       "      <td>0.576744</td>\n",
       "      <td>0.186730</td>\n",
       "      <td>krxd.net</td>\n",
       "    </tr>\n",
       "    <tr>\n",
       "      <th>262442</th>\n",
       "      <td>-0.340859</td>\n",
       "      <td>0.300931</td>\n",
       "      <td>-0.071798</td>\n",
       "      <td>-0.794187</td>\n",
       "      <td>githubusercontent.com</td>\n",
       "    </tr>\n",
       "  </tbody>\n",
       "</table>\n",
       "<p>262443 rows × 5 columns</p>\n",
       "</div>"
      ],
      "text/plain": [
       "        _c_appdataB  _s_appdataB  _s_pkts_data_avg  _c_pkts_data_avg  \\\n",
       "0          0.574035    -1.106620         -0.970144          0.838752   \n",
       "1         -0.605697     1.315792          0.248992         -0.349889   \n",
       "2          0.574035    -1.106620         -0.339726          3.223248   \n",
       "3          0.108562    -1.117900         -1.601875          0.269435   \n",
       "4         -1.709188    -1.163373         -1.990632         -0.269108   \n",
       "...             ...          ...               ...               ...   \n",
       "262438     0.742568     1.450449         -0.440139         -0.672712   \n",
       "262439     0.574035    -1.106620         -1.523073         -0.659552   \n",
       "262440     0.742568     0.442285         -0.240848          0.344447   \n",
       "262441    -1.709188    -1.163373          0.576744          0.186730   \n",
       "262442    -0.340859     0.300931         -0.071798         -0.794187   \n",
       "\n",
       "                        label  \n",
       "0                    krxd.net  \n",
       "1                       other  \n",
       "2              contextweb.com  \n",
       "3               twitchcdn.net  \n",
       "4               twitchcdn.net  \n",
       "...                       ...  \n",
       "262438                  other  \n",
       "262439               krxd.net  \n",
       "262440                  other  \n",
       "262441               krxd.net  \n",
       "262442  githubusercontent.com  \n",
       "\n",
       "[262443 rows x 5 columns]"
      ]
     },
     "execution_count": 6,
     "metadata": {},
     "output_type": "execute_result"
    }
   ],
   "source": [
    "scaler = StandardScaler()\n",
    "\n",
    "df_training_4 = four_df.iloc[:len(df_training)].copy()\n",
    "df_test_4 = four_df.iloc[len(df_training):].copy()\n",
    "\n",
    "df_training_scaled = pd.DataFrame(scaler.fit_transform(df_training_4), columns=df_training_4.columns)\n",
    "df_test_scaled = pd.DataFrame(scaler.transform(df_test_4), columns=df_test_4.columns)\n",
    "\n",
    "df_training_scaled['label'] = df.iloc[:len(df_training)]['label'].copy().reset_index(drop=True)\n",
    "df_test_scaled['label'] = df.iloc[len(df_training):]['label'].copy().reset_index(drop=True)\n",
    "\n",
    "df_norm_scaled = pd.concat([df_training_scaled, df_test_scaled], ignore_index=True)\n",
    "df_norm_scaled"
   ]
  },
  {
   "cell_type": "code",
   "execution_count": 7,
   "id": "7bed0cbc-9c0c-4287-90bd-552496b90ad2",
   "metadata": {},
   "outputs": [],
   "source": [
    "X_train = df_training_scaled.drop('label', axis=1)\n",
    "y_train = df_training_scaled['label']\n",
    "X_test = df_test_scaled.drop('label', axis=1)\n",
    "y_test = df_test_scaled['label']"
   ]
  },
  {
   "cell_type": "markdown",
   "id": "06f6f933-3f07-4be3-bfe6-d6986d1c22a1",
   "metadata": {},
   "source": [
    "# Random Forest"
   ]
  },
  {
   "cell_type": "code",
   "execution_count": 19,
   "id": "ea250519-ad90-46b5-977b-4f2311e85b33",
   "metadata": {},
   "outputs": [
    {
     "data": {
      "text/html": [
       "<style>#sk-container-id-1 {color: black;}#sk-container-id-1 pre{padding: 0;}#sk-container-id-1 div.sk-toggleable {background-color: white;}#sk-container-id-1 label.sk-toggleable__label {cursor: pointer;display: block;width: 100%;margin-bottom: 0;padding: 0.3em;box-sizing: border-box;text-align: center;}#sk-container-id-1 label.sk-toggleable__label-arrow:before {content: \"▸\";float: left;margin-right: 0.25em;color: #696969;}#sk-container-id-1 label.sk-toggleable__label-arrow:hover:before {color: black;}#sk-container-id-1 div.sk-estimator:hover label.sk-toggleable__label-arrow:before {color: black;}#sk-container-id-1 div.sk-toggleable__content {max-height: 0;max-width: 0;overflow: hidden;text-align: left;background-color: #f0f8ff;}#sk-container-id-1 div.sk-toggleable__content pre {margin: 0.2em;color: black;border-radius: 0.25em;background-color: #f0f8ff;}#sk-container-id-1 input.sk-toggleable__control:checked~div.sk-toggleable__content {max-height: 200px;max-width: 100%;overflow: auto;}#sk-container-id-1 input.sk-toggleable__control:checked~label.sk-toggleable__label-arrow:before {content: \"▾\";}#sk-container-id-1 div.sk-estimator input.sk-toggleable__control:checked~label.sk-toggleable__label {background-color: #d4ebff;}#sk-container-id-1 div.sk-label input.sk-toggleable__control:checked~label.sk-toggleable__label {background-color: #d4ebff;}#sk-container-id-1 input.sk-hidden--visually {border: 0;clip: rect(1px 1px 1px 1px);clip: rect(1px, 1px, 1px, 1px);height: 1px;margin: -1px;overflow: hidden;padding: 0;position: absolute;width: 1px;}#sk-container-id-1 div.sk-estimator {font-family: monospace;background-color: #f0f8ff;border: 1px dotted black;border-radius: 0.25em;box-sizing: border-box;margin-bottom: 0.5em;}#sk-container-id-1 div.sk-estimator:hover {background-color: #d4ebff;}#sk-container-id-1 div.sk-parallel-item::after {content: \"\";width: 100%;border-bottom: 1px solid gray;flex-grow: 1;}#sk-container-id-1 div.sk-label:hover label.sk-toggleable__label {background-color: #d4ebff;}#sk-container-id-1 div.sk-serial::before {content: \"\";position: absolute;border-left: 1px solid gray;box-sizing: border-box;top: 0;bottom: 0;left: 50%;z-index: 0;}#sk-container-id-1 div.sk-serial {display: flex;flex-direction: column;align-items: center;background-color: white;padding-right: 0.2em;padding-left: 0.2em;position: relative;}#sk-container-id-1 div.sk-item {position: relative;z-index: 1;}#sk-container-id-1 div.sk-parallel {display: flex;align-items: stretch;justify-content: center;background-color: white;position: relative;}#sk-container-id-1 div.sk-item::before, #sk-container-id-1 div.sk-parallel-item::before {content: \"\";position: absolute;border-left: 1px solid gray;box-sizing: border-box;top: 0;bottom: 0;left: 50%;z-index: -1;}#sk-container-id-1 div.sk-parallel-item {display: flex;flex-direction: column;z-index: 1;position: relative;background-color: white;}#sk-container-id-1 div.sk-parallel-item:first-child::after {align-self: flex-end;width: 50%;}#sk-container-id-1 div.sk-parallel-item:last-child::after {align-self: flex-start;width: 50%;}#sk-container-id-1 div.sk-parallel-item:only-child::after {width: 0;}#sk-container-id-1 div.sk-dashed-wrapped {border: 1px dashed gray;margin: 0 0.4em 0.5em 0.4em;box-sizing: border-box;padding-bottom: 0.4em;background-color: white;}#sk-container-id-1 div.sk-label label {font-family: monospace;font-weight: bold;display: inline-block;line-height: 1.2em;}#sk-container-id-1 div.sk-label-container {text-align: center;}#sk-container-id-1 div.sk-container {/* jupyter's `normalize.less` sets `[hidden] { display: none; }` but bootstrap.min.css set `[hidden] { display: none !important; }` so we also need the `!important` here to be able to override the default hidden behavior on the sphinx rendered scikit-learn.org. See: https://github.com/scikit-learn/scikit-learn/issues/21755 */display: inline-block !important;position: relative;}#sk-container-id-1 div.sk-text-repr-fallback {display: none;}</style><div id=\"sk-container-id-1\" class=\"sk-top-container\"><div class=\"sk-text-repr-fallback\"><pre>RandomForestClassifier(n_jobs=-1, random_state=42)</pre><b>In a Jupyter environment, please rerun this cell to show the HTML representation or trust the notebook. <br />On GitHub, the HTML representation is unable to render, please try loading this page with nbviewer.org.</b></div><div class=\"sk-container\" hidden><div class=\"sk-item\"><div class=\"sk-estimator sk-toggleable\"><input class=\"sk-toggleable__control sk-hidden--visually\" id=\"sk-estimator-id-1\" type=\"checkbox\" checked><label for=\"sk-estimator-id-1\" class=\"sk-toggleable__label sk-toggleable__label-arrow\">RandomForestClassifier</label><div class=\"sk-toggleable__content\"><pre>RandomForestClassifier(n_jobs=-1, random_state=42)</pre></div></div></div></div></div>"
      ],
      "text/plain": [
       "RandomForestClassifier(n_jobs=-1, random_state=42)"
      ]
     },
     "execution_count": 19,
     "metadata": {},
     "output_type": "execute_result"
    }
   ],
   "source": [
    "random_forest_model = RandomForestClassifier(random_state=42, n_jobs = n_jobs)\n",
    "random_forest_model.fit(X_train, y_train)"
   ]
  },
  {
   "cell_type": "code",
   "execution_count": 20,
   "id": "78e11e01-aa54-4bdb-a785-11e0769c6ada",
   "metadata": {},
   "outputs": [
    {
     "name": "stdout",
     "output_type": "stream",
     "text": [
      "                       precision    recall  f1-score   support\n",
      "\n",
      "            adnxs.com       0.99      0.98      0.99      3839\n",
      "      ads-twitter.com       1.00      0.98      0.99      1325\n",
      "        chartbeat.com       0.99      0.99      0.99      1413\n",
      "       contextweb.com       1.00      0.97      0.98      2824\n",
      "           disqus.com       1.00      0.97      0.98      3173\n",
      "      everesttech.net       0.99      0.99      0.99      3408\n",
      "  fastly-insights.com       1.00      0.99      0.99      1309\n",
      "           fastly.net       1.00      0.98      0.99      1869\n",
      "            ftcdn.net       1.00      1.00      1.00      3455\n",
      "            giphy.com       1.00      0.96      0.98      3886\n",
      "githubusercontent.com       1.00      1.00      1.00      4271\n",
      "             krxd.net       0.93      1.00      0.96     11144\n",
      "         newrelic.com       0.99      0.97      0.98      2182\n",
      "                other       0.99      0.98      0.98     35083\n",
      "         outbrain.com       0.98      0.86      0.92      5637\n",
      "        pinterest.com       0.99      0.98      0.98      1967\n",
      "          polyfill.io       1.00      0.92      0.96      1270\n",
      "              redd.it       1.00      0.98      0.99      3085\n",
      "           reddit.com       0.99      0.98      0.98      3457\n",
      "              scdn.co       1.00      0.98      0.99     25322\n",
      "       slack-edge.com       1.00      0.95      0.98      1064\n",
      "          taboola.com       0.93      0.99      0.96     21018\n",
      "            twimg.com       0.99      0.97      0.98      1024\n",
      "            twitch.tv       0.99      0.98      0.99      2383\n",
      "        twitchcdn.net       0.97      0.98      0.97      1436\n",
      "         vimeocdn.com       0.86      0.98      0.92      1019\n",
      "\n",
      "             accuracy                           0.98    147863\n",
      "            macro avg       0.98      0.97      0.98    147863\n",
      "         weighted avg       0.98      0.98      0.98    147863\n",
      "\n"
     ]
    }
   ],
   "source": [
    "y_pred = random_forest_model.predict(X_train)\n",
    "print(classification_report(y_train, y_pred))"
   ]
  },
  {
   "cell_type": "code",
   "execution_count": 21,
   "id": "535d52f4-7350-4278-9c49-e143f9d76f0f",
   "metadata": {},
   "outputs": [
    {
     "name": "stdout",
     "output_type": "stream",
     "text": [
      "                       precision    recall  f1-score   support\n",
      "\n",
      "            adnxs.com       0.88      0.87      0.87      2942\n",
      "      ads-twitter.com       0.91      0.87      0.89      1135\n",
      "        chartbeat.com       0.90      0.92      0.91      1717\n",
      "       contextweb.com       0.81      0.77      0.79      2383\n",
      "           disqus.com       0.82      0.64      0.72      3246\n",
      "      everesttech.net       0.86      0.85      0.86      2894\n",
      "  fastly-insights.com       0.92      0.80      0.86       686\n",
      "           fastly.net       0.85      0.73      0.78      1455\n",
      "            ftcdn.net       0.98      0.96      0.97      1607\n",
      "            giphy.com       0.87      0.83      0.85      1730\n",
      "githubusercontent.com       0.92      0.83      0.87      4477\n",
      "             krxd.net       0.85      0.91      0.88     11171\n",
      "         newrelic.com       0.82      0.82      0.82      1604\n",
      "                other       0.86      0.83      0.84     34777\n",
      "         outbrain.com       0.65      0.58      0.61      4426\n",
      "        pinterest.com       0.79      0.69      0.74      1542\n",
      "          polyfill.io       0.73      0.71      0.72      1102\n",
      "              redd.it       0.89      0.73      0.80      1855\n",
      "           reddit.com       0.74      0.81      0.77      1585\n",
      "              scdn.co       0.87      0.93      0.90     13223\n",
      "       slack-edge.com       0.77      0.82      0.79       651\n",
      "          taboola.com       0.75      0.84      0.79     15764\n",
      "            twimg.com       0.91      0.78      0.84       771\n",
      "            twitch.tv       0.47      0.53      0.50       644\n",
      "        twitchcdn.net       0.47      0.44      0.46       228\n",
      "         vimeocdn.com       0.81      0.78      0.80       965\n",
      "\n",
      "             accuracy                           0.83    114580\n",
      "            macro avg       0.81      0.78      0.79    114580\n",
      "         weighted avg       0.83      0.83      0.83    114580\n",
      "\n"
     ]
    }
   ],
   "source": [
    "y_pred = random_forest_model.predict(X_test)\n",
    "print(classification_report(y_test, y_pred))"
   ]
  },
  {
   "cell_type": "code",
   "execution_count": 23,
   "id": "61f4c00f-e278-4d6d-94b0-2473fc8311ab",
   "metadata": {},
   "outputs": [
    {
     "data": {
      "image/png": "[encoded data removed]",
      "text/plain": [
       "<Figure size 640x480 with 1 Axes>"
      ]
     },
     "metadata": {},
     "output_type": "display_data"
    }
   ],
   "source": [
    "plot_learning_curve(random_forest_model, X_train, y_train, title=\"Learning Curve Deafault Random Forest\")\n",
    "plt.show()"
   ]
  },
  {
   "cell_type": "markdown",
   "id": "b0d35bb5-b83e-4ff6-a41c-fe537b75632b",
   "metadata": {},
   "source": [
    "## Hyperparameters tuning"
   ]
  },
  {
   "cell_type": "code",
   "execution_count": null,
   "id": "b112a50e-dc59-4e77-a2ba-b153eb4ddb1f",
   "metadata": {},
   "outputs": [],
   "source": [
    "param_grid_rf = {\n",
    "    'n_estimators': [100],\n",
    "    'max_depth': [10, 15, 20, 25, 30, None],\n",
    "    'min_samples_split': [2, 4],\n",
    "    'min_samples_leaf': [1, 2, 3],\n",
    "    'criterion': ['gini', 'entropy'],\n",
    "    'class_weight': [None, 'balanced']\n",
    "}\n",
    "\n",
    "grid_search_rf = GridSearchCV(RandomForestClassifier(random_state=42, n_jobs=n_jobs), param_grid_rf, cv=5, scoring='accuracy', n_jobs = n_jobs, verbose=3)\n",
    "\n",
    "grid_search_rf.fit(X_train, y_train)\n",
    "\n",
    "print(\"Best Hyperparameters:\", grid_search_rf.best_params_)\n",
    "\n",
    "# Best_Hyperparameters: {'class_weight': None, 'criterion': 'gini', 'max_depth': 25, 'min_samples_leaf': 1, 'min_samples_split': 2, 'n_estimators': 100}"
   ]
  },
  {
   "cell_type": "code",
   "execution_count": 8,
   "id": "50115070-c051-4e42-906e-b784dfab620b",
   "metadata": {},
   "outputs": [],
   "source": [
    "#### TEST TO NOT RECOMPILE CROSS VALIDATION\n",
    "\n",
    "Best_Hyperparameters = {'class_weight': None, 'criterion': 'gini', 'max_depth': 25, 'min_samples_leaf': 1, 'min_samples_split': 2, 'n_estimators': 100}\n",
    "best_model_rf = RandomForestClassifier(\n",
    "    random_state=42,\n",
    "    n_jobs=n_jobs,\n",
    "    class_weight=Best_Hyperparameters['class_weight'],\n",
    "    criterion=Best_Hyperparameters['criterion'],\n",
    "    max_depth=Best_Hyperparameters['max_depth'],\n",
    "    min_samples_leaf=Best_Hyperparameters['min_samples_leaf'],\n",
    "    min_samples_split=Best_Hyperparameters['min_samples_split'],\n",
    "    n_estimators=Best_Hyperparameters['n_estimators']\n",
    ")"
   ]
  },
  {
   "cell_type": "code",
   "execution_count": 9,
   "id": "ea88e869-84b8-43fc-acb5-27ea5b586569",
   "metadata": {},
   "outputs": [
    {
     "data": {
      "text/html": [
       "<style>#sk-container-id-1 {color: black;}#sk-container-id-1 pre{padding: 0;}#sk-container-id-1 div.sk-toggleable {background-color: white;}#sk-container-id-1 label.sk-toggleable__label {cursor: pointer;display: block;width: 100%;margin-bottom: 0;padding: 0.3em;box-sizing: border-box;text-align: center;}#sk-container-id-1 label.sk-toggleable__label-arrow:before {content: \"▸\";float: left;margin-right: 0.25em;color: #696969;}#sk-container-id-1 label.sk-toggleable__label-arrow:hover:before {color: black;}#sk-container-id-1 div.sk-estimator:hover label.sk-toggleable__label-arrow:before {color: black;}#sk-container-id-1 div.sk-toggleable__content {max-height: 0;max-width: 0;overflow: hidden;text-align: left;background-color: #f0f8ff;}#sk-container-id-1 div.sk-toggleable__content pre {margin: 0.2em;color: black;border-radius: 0.25em;background-color: #f0f8ff;}#sk-container-id-1 input.sk-toggleable__control:checked~div.sk-toggleable__content {max-height: 200px;max-width: 100%;overflow: auto;}#sk-container-id-1 input.sk-toggleable__control:checked~label.sk-toggleable__label-arrow:before {content: \"▾\";}#sk-container-id-1 div.sk-estimator input.sk-toggleable__control:checked~label.sk-toggleable__label {background-color: #d4ebff;}#sk-container-id-1 div.sk-label input.sk-toggleable__control:checked~label.sk-toggleable__label {background-color: #d4ebff;}#sk-container-id-1 input.sk-hidden--visually {border: 0;clip: rect(1px 1px 1px 1px);clip: rect(1px, 1px, 1px, 1px);height: 1px;margin: -1px;overflow: hidden;padding: 0;position: absolute;width: 1px;}#sk-container-id-1 div.sk-estimator {font-family: monospace;background-color: #f0f8ff;border: 1px dotted black;border-radius: 0.25em;box-sizing: border-box;margin-bottom: 0.5em;}#sk-container-id-1 div.sk-estimator:hover {background-color: #d4ebff;}#sk-container-id-1 div.sk-parallel-item::after {content: \"\";width: 100%;border-bottom: 1px solid gray;flex-grow: 1;}#sk-container-id-1 div.sk-label:hover label.sk-toggleable__label {background-color: #d4ebff;}#sk-container-id-1 div.sk-serial::before {content: \"\";position: absolute;border-left: 1px solid gray;box-sizing: border-box;top: 0;bottom: 0;left: 50%;z-index: 0;}#sk-container-id-1 div.sk-serial {display: flex;flex-direction: column;align-items: center;background-color: white;padding-right: 0.2em;padding-left: 0.2em;position: relative;}#sk-container-id-1 div.sk-item {position: relative;z-index: 1;}#sk-container-id-1 div.sk-parallel {display: flex;align-items: stretch;justify-content: center;background-color: white;position: relative;}#sk-container-id-1 div.sk-item::before, #sk-container-id-1 div.sk-parallel-item::before {content: \"\";position: absolute;border-left: 1px solid gray;box-sizing: border-box;top: 0;bottom: 0;left: 50%;z-index: -1;}#sk-container-id-1 div.sk-parallel-item {display: flex;flex-direction: column;z-index: 1;position: relative;background-color: white;}#sk-container-id-1 div.sk-parallel-item:first-child::after {align-self: flex-end;width: 50%;}#sk-container-id-1 div.sk-parallel-item:last-child::after {align-self: flex-start;width: 50%;}#sk-container-id-1 div.sk-parallel-item:only-child::after {width: 0;}#sk-container-id-1 div.sk-dashed-wrapped {border: 1px dashed gray;margin: 0 0.4em 0.5em 0.4em;box-sizing: border-box;padding-bottom: 0.4em;background-color: white;}#sk-container-id-1 div.sk-label label {font-family: monospace;font-weight: bold;display: inline-block;line-height: 1.2em;}#sk-container-id-1 div.sk-label-container {text-align: center;}#sk-container-id-1 div.sk-container {/* jupyter's `normalize.less` sets `[hidden] { display: none; }` but bootstrap.min.css set `[hidden] { display: none !important; }` so we also need the `!important` here to be able to override the default hidden behavior on the sphinx rendered scikit-learn.org. See: https://github.com/scikit-learn/scikit-learn/issues/21755 */display: inline-block !important;position: relative;}#sk-container-id-1 div.sk-text-repr-fallback {display: none;}</style><div id=\"sk-container-id-1\" class=\"sk-top-container\"><div class=\"sk-text-repr-fallback\"><pre>RandomForestClassifier(max_depth=25, n_jobs=-1, random_state=42)</pre><b>In a Jupyter environment, please rerun this cell to show the HTML representation or trust the notebook. <br />On GitHub, the HTML representation is unable to render, please try loading this page with nbviewer.org.</b></div><div class=\"sk-container\" hidden><div class=\"sk-item\"><div class=\"sk-estimator sk-toggleable\"><input class=\"sk-toggleable__control sk-hidden--visually\" id=\"sk-estimator-id-1\" type=\"checkbox\" checked><label for=\"sk-estimator-id-1\" class=\"sk-toggleable__label sk-toggleable__label-arrow\">RandomForestClassifier</label><div class=\"sk-toggleable__content\"><pre>RandomForestClassifier(max_depth=25, n_jobs=-1, random_state=42)</pre></div></div></div></div></div>"
      ],
      "text/plain": [
       "RandomForestClassifier(max_depth=25, n_jobs=-1, random_state=42)"
      ]
     },
     "execution_count": 9,
     "metadata": {},
     "output_type": "execute_result"
    }
   ],
   "source": [
    "best_model_rf.fit(X_train, y_train)"
   ]
  },
  {
   "cell_type": "code",
   "execution_count": 10,
   "id": "fcc05097-2cf3-402d-b5fb-f0d3a0fa7337",
   "metadata": {},
   "outputs": [
    {
     "name": "stdout",
     "output_type": "stream",
     "text": [
      "Classification Report on Train Set:\n",
      "                       precision    recall  f1-score   support\n",
      "\n",
      "            adnxs.com       0.99      0.98      0.99      3839\n",
      "      ads-twitter.com       1.00      0.98      0.99      1325\n",
      "        chartbeat.com       0.99      0.98      0.99      1413\n",
      "       contextweb.com       0.99      0.95      0.97      2824\n",
      "           disqus.com       1.00      0.94      0.97      3173\n",
      "      everesttech.net       0.99      0.99      0.99      3408\n",
      "  fastly-insights.com       1.00      0.99      0.99      1309\n",
      "           fastly.net       1.00      0.98      0.99      1869\n",
      "            ftcdn.net       1.00      1.00      1.00      3455\n",
      "            giphy.com       0.99      0.93      0.96      3886\n",
      "githubusercontent.com       1.00      0.99      0.99      4271\n",
      "             krxd.net       0.92      0.99      0.95     11144\n",
      "         newrelic.com       0.99      0.96      0.97      2182\n",
      "                other       0.99      0.97      0.98     35083\n",
      "         outbrain.com       0.96      0.85      0.90      5637\n",
      "        pinterest.com       0.99      0.97      0.98      1967\n",
      "          polyfill.io       1.00      0.91      0.95      1270\n",
      "              redd.it       1.00      0.97      0.98      3085\n",
      "           reddit.com       0.99      0.97      0.98      3457\n",
      "              scdn.co       0.98      0.98      0.98     25322\n",
      "       slack-edge.com       0.99      0.94      0.97      1064\n",
      "          taboola.com       0.92      0.99      0.96     21018\n",
      "            twimg.com       0.99      0.97      0.98      1024\n",
      "            twitch.tv       0.99      0.97      0.98      2383\n",
      "        twitchcdn.net       0.96      0.95      0.96      1436\n",
      "         vimeocdn.com       0.86      0.98      0.92      1019\n",
      "\n",
      "             accuracy                           0.97    147863\n",
      "            macro avg       0.98      0.96      0.97    147863\n",
      "         weighted avg       0.97      0.97      0.97    147863\n",
      "\n"
     ]
    }
   ],
   "source": [
    "y_pred_best_rf = best_model_rf.predict(X_train)\n",
    "print(\"Classification Report on Train Set:\")\n",
    "print(classification_report(y_train, y_pred_best_rf))"
   ]
  },
  {
   "cell_type": "code",
   "execution_count": 11,
   "id": "51ec8098-3f3b-4824-a8ff-5a16837a0377",
   "metadata": {},
   "outputs": [
    {
     "name": "stdout",
     "output_type": "stream",
     "text": [
      "Classification Report on Test Set:\n",
      "                       precision    recall  f1-score   support\n",
      "\n",
      "            adnxs.com       0.89      0.87      0.88      2942\n",
      "      ads-twitter.com       0.90      0.87      0.88      1135\n",
      "        chartbeat.com       0.91      0.91      0.91      1717\n",
      "       contextweb.com       0.81      0.77      0.79      2383\n",
      "           disqus.com       0.84      0.64      0.73      3246\n",
      "      everesttech.net       0.88      0.86      0.87      2894\n",
      "  fastly-insights.com       0.92      0.80      0.86       686\n",
      "           fastly.net       0.82      0.72      0.77      1455\n",
      "            ftcdn.net       0.99      0.96      0.97      1607\n",
      "            giphy.com       0.89      0.84      0.86      1730\n",
      "githubusercontent.com       0.92      0.83      0.87      4477\n",
      "             krxd.net       0.84      0.92      0.88     11171\n",
      "         newrelic.com       0.83      0.81      0.82      1604\n",
      "                other       0.86      0.83      0.84     34777\n",
      "         outbrain.com       0.66      0.58      0.62      4426\n",
      "        pinterest.com       0.81      0.70      0.75      1542\n",
      "          polyfill.io       0.75      0.71      0.73      1102\n",
      "              redd.it       0.90      0.72      0.80      1855\n",
      "           reddit.com       0.75      0.80      0.77      1585\n",
      "              scdn.co       0.87      0.94      0.90     13223\n",
      "       slack-edge.com       0.83      0.82      0.82       651\n",
      "          taboola.com       0.74      0.84      0.79     15764\n",
      "            twimg.com       0.87      0.77      0.82       771\n",
      "            twitch.tv       0.50      0.53      0.52       644\n",
      "        twitchcdn.net       0.58      0.45      0.50       228\n",
      "         vimeocdn.com       0.81      0.79      0.80       965\n",
      "\n",
      "             accuracy                           0.83    114580\n",
      "            macro avg       0.82      0.78      0.80    114580\n",
      "         weighted avg       0.83      0.83      0.83    114580\n",
      "\n"
     ]
    }
   ],
   "source": [
    "y_pred_best_rf = best_model_rf.predict(X_test)\n",
    "print(\"Classification Report on Test Set:\")\n",
    "print(classification_report(y_test, y_pred_best_rf))"
   ]
  },
  {
   "cell_type": "code",
   "execution_count": 12,
   "id": "561bdb39-2f7c-423d-902f-a1e42e981902",
   "metadata": {},
   "outputs": [
    {
     "data": {
      "image/png": "[encoded data removed]",
      "text/plain": [
       "<Figure size 640x480 with 1 Axes>"
      ]
     },
     "metadata": {},
     "output_type": "display_data"
    }
   ],
   "source": [
    "plot_learning_curve(best_model_rf, X_train, y_train, title=\"Learning Curve Best Random Forest\")\n",
    "plt.show()"
   ]
  },
  {
   "cell_type": "markdown",
   "id": "f19c446b-5bc9-471f-b5d3-0e86ee337e64",
   "metadata": {},
   "source": [
    "# k-Nearest Neighbors"
   ]
  },
  {
   "cell_type": "code",
   "execution_count": 13,
   "id": "e976af8d-1a94-40ff-9adc-f6dcc41f2f91",
   "metadata": {},
   "outputs": [
    {
     "data": {
      "text/html": [
       "<style>#sk-container-id-2 {color: black;}#sk-container-id-2 pre{padding: 0;}#sk-container-id-2 div.sk-toggleable {background-color: white;}#sk-container-id-2 label.sk-toggleable__label {cursor: pointer;display: block;width: 100%;margin-bottom: 0;padding: 0.3em;box-sizing: border-box;text-align: center;}#sk-container-id-2 label.sk-toggleable__label-arrow:before {content: \"▸\";float: left;margin-right: 0.25em;color: #696969;}#sk-container-id-2 label.sk-toggleable__label-arrow:hover:before {color: black;}#sk-container-id-2 div.sk-estimator:hover label.sk-toggleable__label-arrow:before {color: black;}#sk-container-id-2 div.sk-toggleable__content {max-height: 0;max-width: 0;overflow: hidden;text-align: left;background-color: #f0f8ff;}#sk-container-id-2 div.sk-toggleable__content pre {margin: 0.2em;color: black;border-radius: 0.25em;background-color: #f0f8ff;}#sk-container-id-2 input.sk-toggleable__control:checked~div.sk-toggleable__content {max-height: 200px;max-width: 100%;overflow: auto;}#sk-container-id-2 input.sk-toggleable__control:checked~label.sk-toggleable__label-arrow:before {content: \"▾\";}#sk-container-id-2 div.sk-estimator input.sk-toggleable__control:checked~label.sk-toggleable__label {background-color: #d4ebff;}#sk-container-id-2 div.sk-label input.sk-toggleable__control:checked~label.sk-toggleable__label {background-color: #d4ebff;}#sk-container-id-2 input.sk-hidden--visually {border: 0;clip: rect(1px 1px 1px 1px);clip: rect(1px, 1px, 1px, 1px);height: 1px;margin: -1px;overflow: hidden;padding: 0;position: absolute;width: 1px;}#sk-container-id-2 div.sk-estimator {font-family: monospace;background-color: #f0f8ff;border: 1px dotted black;border-radius: 0.25em;box-sizing: border-box;margin-bottom: 0.5em;}#sk-container-id-2 div.sk-estimator:hover {background-color: #d4ebff;}#sk-container-id-2 div.sk-parallel-item::after {content: \"\";width: 100%;border-bottom: 1px solid gray;flex-grow: 1;}#sk-container-id-2 div.sk-label:hover label.sk-toggleable__label {background-color: #d4ebff;}#sk-container-id-2 div.sk-serial::before {content: \"\";position: absolute;border-left: 1px solid gray;box-sizing: border-box;top: 0;bottom: 0;left: 50%;z-index: 0;}#sk-container-id-2 div.sk-serial {display: flex;flex-direction: column;align-items: center;background-color: white;padding-right: 0.2em;padding-left: 0.2em;position: relative;}#sk-container-id-2 div.sk-item {position: relative;z-index: 1;}#sk-container-id-2 div.sk-parallel {display: flex;align-items: stretch;justify-content: center;background-color: white;position: relative;}#sk-container-id-2 div.sk-item::before, #sk-container-id-2 div.sk-parallel-item::before {content: \"\";position: absolute;border-left: 1px solid gray;box-sizing: border-box;top: 0;bottom: 0;left: 50%;z-index: -1;}#sk-container-id-2 div.sk-parallel-item {display: flex;flex-direction: column;z-index: 1;position: relative;background-color: white;}#sk-container-id-2 div.sk-parallel-item:first-child::after {align-self: flex-end;width: 50%;}#sk-container-id-2 div.sk-parallel-item:last-child::after {align-self: flex-start;width: 50%;}#sk-container-id-2 div.sk-parallel-item:only-child::after {width: 0;}#sk-container-id-2 div.sk-dashed-wrapped {border: 1px dashed gray;margin: 0 0.4em 0.5em 0.4em;box-sizing: border-box;padding-bottom: 0.4em;background-color: white;}#sk-container-id-2 div.sk-label label {font-family: monospace;font-weight: bold;display: inline-block;line-height: 1.2em;}#sk-container-id-2 div.sk-label-container {text-align: center;}#sk-container-id-2 div.sk-container {/* jupyter's `normalize.less` sets `[hidden] { display: none; }` but bootstrap.min.css set `[hidden] { display: none !important; }` so we also need the `!important` here to be able to override the default hidden behavior on the sphinx rendered scikit-learn.org. See: https://github.com/scikit-learn/scikit-learn/issues/21755 */display: inline-block !important;position: relative;}#sk-container-id-2 div.sk-text-repr-fallback {display: none;}</style><div id=\"sk-container-id-2\" class=\"sk-top-container\"><div class=\"sk-text-repr-fallback\"><pre>KNeighborsClassifier(n_jobs=-1)</pre><b>In a Jupyter environment, please rerun this cell to show the HTML representation or trust the notebook. <br />On GitHub, the HTML representation is unable to render, please try loading this page with nbviewer.org.</b></div><div class=\"sk-container\" hidden><div class=\"sk-item\"><div class=\"sk-estimator sk-toggleable\"><input class=\"sk-toggleable__control sk-hidden--visually\" id=\"sk-estimator-id-2\" type=\"checkbox\" checked><label for=\"sk-estimator-id-2\" class=\"sk-toggleable__label sk-toggleable__label-arrow\">KNeighborsClassifier</label><div class=\"sk-toggleable__content\"><pre>KNeighborsClassifier(n_jobs=-1)</pre></div></div></div></div></div>"
      ],
      "text/plain": [
       "KNeighborsClassifier(n_jobs=-1)"
      ]
     },
     "execution_count": 13,
     "metadata": {},
     "output_type": "execute_result"
    }
   ],
   "source": [
    "knn_model = KNeighborsClassifier(n_jobs=n_jobs)\n",
    "knn_model.fit(X_train.values, y_train)"
   ]
  },
  {
   "cell_type": "code",
   "execution_count": 14,
   "id": "01259607-0048-4989-93dc-4003e7610dc3",
   "metadata": {},
   "outputs": [
    {
     "name": "stdout",
     "output_type": "stream",
     "text": [
      "                       precision    recall  f1-score   support\n",
      "\n",
      "            adnxs.com       0.77      0.87      0.82      3839\n",
      "      ads-twitter.com       0.74      0.82      0.78      1325\n",
      "        chartbeat.com       0.81      0.89      0.85      1413\n",
      "       contextweb.com       0.72      0.79      0.75      2824\n",
      "           disqus.com       0.63      0.58      0.60      3173\n",
      "      everesttech.net       0.86      0.88      0.87      3408\n",
      "  fastly-insights.com       0.92      0.90      0.91      1309\n",
      "           fastly.net       0.81      0.80      0.81      1869\n",
      "            ftcdn.net       0.99      0.99      0.99      3455\n",
      "            giphy.com       0.81      0.86      0.83      3886\n",
      "githubusercontent.com       0.85      0.84      0.85      4271\n",
      "             krxd.net       0.79      0.89      0.84     11144\n",
      "         newrelic.com       0.69      0.75      0.72      2182\n",
      "                other       0.83      0.80      0.81     35083\n",
      "         outbrain.com       0.68      0.58      0.63      5637\n",
      "        pinterest.com       0.78      0.64      0.70      1967\n",
      "          polyfill.io       0.68      0.53      0.60      1270\n",
      "              redd.it       0.84      0.86      0.85      3085\n",
      "           reddit.com       0.87      0.75      0.81      3457\n",
      "              scdn.co       0.87      0.91      0.89     25322\n",
      "       slack-edge.com       0.81      0.65      0.72      1064\n",
      "          taboola.com       0.84      0.86      0.85     21018\n",
      "            twimg.com       0.82      0.51      0.63      1024\n",
      "            twitch.tv       0.84      0.77      0.80      2383\n",
      "        twitchcdn.net       0.93      0.79      0.85      1436\n",
      "         vimeocdn.com       0.77      0.55      0.64      1019\n",
      "\n",
      "             accuracy                           0.82    147863\n",
      "            macro avg       0.80      0.77      0.78    147863\n",
      "         weighted avg       0.82      0.82      0.82    147863\n",
      "\n"
     ]
    }
   ],
   "source": [
    "y_pred = knn_model.predict(X_train.values)\n",
    "\n",
    "print(classification_report(y_train, y_pred))"
   ]
  },
  {
   "cell_type": "code",
   "execution_count": 15,
   "id": "7e61d65d-bbfb-40cc-bd3b-0a45cdf71f43",
   "metadata": {},
   "outputs": [
    {
     "name": "stdout",
     "output_type": "stream",
     "text": [
      "                       precision    recall  f1-score   support\n",
      "\n",
      "            adnxs.com       0.63      0.73      0.67      2942\n",
      "      ads-twitter.com       0.54      0.63      0.58      1135\n",
      "        chartbeat.com       0.76      0.85      0.80      1717\n",
      "       contextweb.com       0.49      0.60      0.54      2383\n",
      "           disqus.com       0.41      0.34      0.37      3246\n",
      "      everesttech.net       0.73      0.76      0.74      2894\n",
      "  fastly-insights.com       0.74      0.68      0.71       686\n",
      "           fastly.net       0.52      0.51      0.52      1455\n",
      "            ftcdn.net       0.97      0.93      0.95      1607\n",
      "            giphy.com       0.62      0.72      0.67      1730\n",
      "githubusercontent.com       0.62      0.59      0.60      4477\n",
      "             krxd.net       0.68      0.81      0.74     11171\n",
      "         newrelic.com       0.53      0.65      0.58      1604\n",
      "                other       0.71      0.62      0.66     34777\n",
      "         outbrain.com       0.47      0.40      0.43      4426\n",
      "        pinterest.com       0.56      0.44      0.49      1542\n",
      "          polyfill.io       0.46      0.35      0.40      1102\n",
      "              redd.it       0.69      0.66      0.67      1855\n",
      "           reddit.com       0.60      0.56      0.58      1585\n",
      "              scdn.co       0.68      0.86      0.76     13223\n",
      "       slack-edge.com       0.60      0.60      0.60       651\n",
      "          taboola.com       0.69      0.67      0.68     15764\n",
      "            twimg.com       0.50      0.33      0.40       771\n",
      "            twitch.tv       0.21      0.23      0.22       644\n",
      "        twitchcdn.net       0.23      0.23      0.23       228\n",
      "         vimeocdn.com       0.72      0.43      0.54       965\n",
      "\n",
      "             accuracy                           0.66    114580\n",
      "            macro avg       0.59      0.58      0.58    114580\n",
      "         weighted avg       0.66      0.66      0.65    114580\n",
      "\n"
     ]
    }
   ],
   "source": [
    "y_pred = knn_model.predict(X_test.values)\n",
    "print(classification_report(y_test, y_pred))"
   ]
  },
  {
   "cell_type": "code",
   "execution_count": 16,
   "id": "34d94b9b-2fad-486f-aaf6-143aced3a0ac",
   "metadata": {},
   "outputs": [
    {
     "data": {
      "image/png": "[encoded data removed]",
      "text/plain": [
       "<Figure size 640x480 with 1 Axes>"
      ]
     },
     "metadata": {},
     "output_type": "display_data"
    }
   ],
   "source": [
    "plot_learning_curve(knn_model, X_train, y_train, title=\"Learning Curve Deafault k-nearest neighbour\")\n",
    "plt.show()"
   ]
  },
  {
   "cell_type": "markdown",
   "id": "efe8ee13-8b49-4be8-9a47-f3f71df742f9",
   "metadata": {},
   "source": [
    "## Corss Validation"
   ]
  },
  {
   "cell_type": "code",
   "execution_count": 22,
   "id": "e64a9eec-15b2-4735-9f38-03a40e2b3125",
   "metadata": {},
   "outputs": [
    {
     "name": "stdout",
     "output_type": "stream",
     "text": [
      "Best parameters: {'n_neighbors': 11, 'p': 1, 'weights': 'distance'}\n",
      "Best score: 0.7614142427845207\n"
     ]
    }
   ],
   "source": [
    "param_grid = {\n",
    "    'n_neighbors': [3, 5, 7, 8, 9, 10, 11, 12, 13],\n",
    "    'weights': ['uniform', 'distance'],\n",
    "    'p': [1, 2]\n",
    "}\n",
    "\n",
    "label_encoder = LabelEncoder()\n",
    "\n",
    "y_train_encoded = label_encoder.fit_transform(y_train)\n",
    "\n",
    "grid_search = GridSearchCV(knn_model, param_grid, cv=5, scoring='accuracy', n_jobs = n_jobs)\n",
    "grid_search.fit(X_train.values, y_train_encoded)\n",
    "\n",
    "print(\"Best parameters:\", grid_search.best_params_)\n",
    "\n",
    "print(\"Best score:\", grid_search.best_score_)\n",
    "\n",
    "# Best parameters: {'n_neighbors': 11, 'p': 1, 'weights': 'distance'}"
   ]
  },
  {
   "cell_type": "code",
   "execution_count": 23,
   "id": "7df4932a-72b8-4507-a5f9-2aba4d1d4c87",
   "metadata": {},
   "outputs": [],
   "source": [
    "#### TEST TO NOT RECOMPILE CROSS VALIDATION\n",
    "\n",
    "Best_Hyperparameters_knn = {'n_neighbors': 11, 'p': 1, 'weights': 'distance'}\n",
    "best_model_knn = KNeighborsClassifier(\n",
    "    n_jobs=n_jobs,\n",
    "    n_neighbors=Best_Hyperparameters_knn['n_neighbors'],\n",
    "    p=Best_Hyperparameters_knn['p'],\n",
    "    weights=Best_Hyperparameters_knn['weights'],\n",
    ")"
   ]
  },
  {
   "cell_type": "code",
   "execution_count": 19,
   "id": "7317d4a5-621d-48ce-9a9e-7a17395b37dc",
   "metadata": {},
   "outputs": [
    {
     "data": {
      "text/html": [
       "<style>#sk-container-id-3 {color: black;}#sk-container-id-3 pre{padding: 0;}#sk-container-id-3 div.sk-toggleable {background-color: white;}#sk-container-id-3 label.sk-toggleable__label {cursor: pointer;display: block;width: 100%;margin-bottom: 0;padding: 0.3em;box-sizing: border-box;text-align: center;}#sk-container-id-3 label.sk-toggleable__label-arrow:before {content: \"▸\";float: left;margin-right: 0.25em;color: #696969;}#sk-container-id-3 label.sk-toggleable__label-arrow:hover:before {color: black;}#sk-container-id-3 div.sk-estimator:hover label.sk-toggleable__label-arrow:before {color: black;}#sk-container-id-3 div.sk-toggleable__content {max-height: 0;max-width: 0;overflow: hidden;text-align: left;background-color: #f0f8ff;}#sk-container-id-3 div.sk-toggleable__content pre {margin: 0.2em;color: black;border-radius: 0.25em;background-color: #f0f8ff;}#sk-container-id-3 input.sk-toggleable__control:checked~div.sk-toggleable__content {max-height: 200px;max-width: 100%;overflow: auto;}#sk-container-id-3 input.sk-toggleable__control:checked~label.sk-toggleable__label-arrow:before {content: \"▾\";}#sk-container-id-3 div.sk-estimator input.sk-toggleable__control:checked~label.sk-toggleable__label {background-color: #d4ebff;}#sk-container-id-3 div.sk-label input.sk-toggleable__control:checked~label.sk-toggleable__label {background-color: #d4ebff;}#sk-container-id-3 input.sk-hidden--visually {border: 0;clip: rect(1px 1px 1px 1px);clip: rect(1px, 1px, 1px, 1px);height: 1px;margin: -1px;overflow: hidden;padding: 0;position: absolute;width: 1px;}#sk-container-id-3 div.sk-estimator {font-family: monospace;background-color: #f0f8ff;border: 1px dotted black;border-radius: 0.25em;box-sizing: border-box;margin-bottom: 0.5em;}#sk-container-id-3 div.sk-estimator:hover {background-color: #d4ebff;}#sk-container-id-3 div.sk-parallel-item::after {content: \"\";width: 100%;border-bottom: 1px solid gray;flex-grow: 1;}#sk-container-id-3 div.sk-label:hover label.sk-toggleable__label {background-color: #d4ebff;}#sk-container-id-3 div.sk-serial::before {content: \"\";position: absolute;border-left: 1px solid gray;box-sizing: border-box;top: 0;bottom: 0;left: 50%;z-index: 0;}#sk-container-id-3 div.sk-serial {display: flex;flex-direction: column;align-items: center;background-color: white;padding-right: 0.2em;padding-left: 0.2em;position: relative;}#sk-container-id-3 div.sk-item {position: relative;z-index: 1;}#sk-container-id-3 div.sk-parallel {display: flex;align-items: stretch;justify-content: center;background-color: white;position: relative;}#sk-container-id-3 div.sk-item::before, #sk-container-id-3 div.sk-parallel-item::before {content: \"\";position: absolute;border-left: 1px solid gray;box-sizing: border-box;top: 0;bottom: 0;left: 50%;z-index: -1;}#sk-container-id-3 div.sk-parallel-item {display: flex;flex-direction: column;z-index: 1;position: relative;background-color: white;}#sk-container-id-3 div.sk-parallel-item:first-child::after {align-self: flex-end;width: 50%;}#sk-container-id-3 div.sk-parallel-item:last-child::after {align-self: flex-start;width: 50%;}#sk-container-id-3 div.sk-parallel-item:only-child::after {width: 0;}#sk-container-id-3 div.sk-dashed-wrapped {border: 1px dashed gray;margin: 0 0.4em 0.5em 0.4em;box-sizing: border-box;padding-bottom: 0.4em;background-color: white;}#sk-container-id-3 div.sk-label label {font-family: monospace;font-weight: bold;display: inline-block;line-height: 1.2em;}#sk-container-id-3 div.sk-label-container {text-align: center;}#sk-container-id-3 div.sk-container {/* jupyter's `normalize.less` sets `[hidden] { display: none; }` but bootstrap.min.css set `[hidden] { display: none !important; }` so we also need the `!important` here to be able to override the default hidden behavior on the sphinx rendered scikit-learn.org. See: https://github.com/scikit-learn/scikit-learn/issues/21755 */display: inline-block !important;position: relative;}#sk-container-id-3 div.sk-text-repr-fallback {display: none;}</style><div id=\"sk-container-id-3\" class=\"sk-top-container\"><div class=\"sk-text-repr-fallback\"><pre>KNeighborsClassifier(n_jobs=-1, n_neighbors=11, p=1, weights=&#x27;distance&#x27;)</pre><b>In a Jupyter environment, please rerun this cell to show the HTML representation or trust the notebook. <br />On GitHub, the HTML representation is unable to render, please try loading this page with nbviewer.org.</b></div><div class=\"sk-container\" hidden><div class=\"sk-item\"><div class=\"sk-estimator sk-toggleable\"><input class=\"sk-toggleable__control sk-hidden--visually\" id=\"sk-estimator-id-3\" type=\"checkbox\" checked><label for=\"sk-estimator-id-3\" class=\"sk-toggleable__label sk-toggleable__label-arrow\">KNeighborsClassifier</label><div class=\"sk-toggleable__content\"><pre>KNeighborsClassifier(n_jobs=-1, n_neighbors=11, p=1, weights=&#x27;distance&#x27;)</pre></div></div></div></div></div>"
      ],
      "text/plain": [
       "KNeighborsClassifier(n_jobs=-1, n_neighbors=11, p=1, weights='distance')"
      ]
     },
     "execution_count": 19,
     "metadata": {},
     "output_type": "execute_result"
    }
   ],
   "source": [
    "label_encoder = LabelEncoder()\n",
    "\n",
    "y_train_encoded = label_encoder.fit_transform(y_train)\n",
    "\n",
    "best_model_knn.fit(X_train.values, y_train_encoded)"
   ]
  },
  {
   "cell_type": "code",
   "execution_count": 20,
   "id": "584337ec-11d1-461d-a35a-d90059937df1",
   "metadata": {},
   "outputs": [
    {
     "name": "stdout",
     "output_type": "stream",
     "text": [
      "Classification Report on Test Set:\n",
      "                       precision    recall  f1-score   support\n",
      "\n",
      "            adnxs.com       0.98      0.98      0.98      3839\n",
      "      ads-twitter.com       1.00      0.98      0.99      1325\n",
      "        chartbeat.com       0.99      0.99      0.99      1413\n",
      "       contextweb.com       1.00      0.97      0.98      2824\n",
      "           disqus.com       0.99      0.97      0.98      3173\n",
      "      everesttech.net       0.99      0.98      0.99      3408\n",
      "  fastly-insights.com       1.00      0.99      0.99      1309\n",
      "           fastly.net       1.00      0.99      0.99      1869\n",
      "            ftcdn.net       1.00      1.00      1.00      3455\n",
      "            giphy.com       1.00      0.96      0.98      3886\n",
      "githubusercontent.com       1.00      1.00      1.00      4271\n",
      "             krxd.net       0.93      0.99      0.96     11144\n",
      "         newrelic.com       0.97      0.98      0.97      2182\n",
      "                other       0.97      0.98      0.98     35083\n",
      "         outbrain.com       0.98      0.86      0.92      5637\n",
      "        pinterest.com       0.98      0.98      0.98      1967\n",
      "          polyfill.io       1.00      0.92      0.96      1270\n",
      "              redd.it       1.00      0.98      0.99      3085\n",
      "           reddit.com       0.99      0.98      0.98      3457\n",
      "              scdn.co       1.00      0.98      0.99     25322\n",
      "       slack-edge.com       0.98      0.96      0.97      1064\n",
      "          taboola.com       0.95      0.98      0.97     21018\n",
      "            twimg.com       0.99      0.97      0.98      1024\n",
      "            twitch.tv       0.99      0.98      0.99      2383\n",
      "        twitchcdn.net       1.00      0.95      0.97      1436\n",
      "         vimeocdn.com       0.90      0.88      0.89      1019\n",
      "\n",
      "             accuracy                           0.98    147863\n",
      "            macro avg       0.98      0.97      0.98    147863\n",
      "         weighted avg       0.98      0.98      0.98    147863\n",
      "\n"
     ]
    }
   ],
   "source": [
    "y_pred_best = best_model_knn.predict(X_train.values)\n",
    "\n",
    "y_pred_best_original = label_encoder.inverse_transform(y_pred_best)\n",
    "\n",
    "print(\"Classification Report on Test Set:\")\n",
    "print(classification_report(y_train, y_pred_best_original))"
   ]
  },
  {
   "cell_type": "code",
   "execution_count": 21,
   "id": "2a5739e5-5cc6-445b-84c0-feea18cf8241",
   "metadata": {},
   "outputs": [
    {
     "name": "stdout",
     "output_type": "stream",
     "text": [
      "Classification Report on Test Set:\n",
      "                       precision    recall  f1-score   support\n",
      "\n",
      "            adnxs.com       0.76      0.75      0.76      2942\n",
      "      ads-twitter.com       0.71      0.67      0.69      1135\n",
      "        chartbeat.com       0.75      0.87      0.81      1717\n",
      "       contextweb.com       0.59      0.60      0.60      2383\n",
      "           disqus.com       0.52      0.35      0.42      3246\n",
      "      everesttech.net       0.79      0.78      0.79      2894\n",
      "  fastly-insights.com       0.78      0.72      0.75       686\n",
      "           fastly.net       0.72      0.53      0.61      1455\n",
      "            ftcdn.net       0.97      0.95      0.96      1607\n",
      "            giphy.com       0.66      0.74      0.70      1730\n",
      "githubusercontent.com       0.70      0.62      0.66      4477\n",
      "             krxd.net       0.69      0.84      0.76     11171\n",
      "         newrelic.com       0.64      0.70      0.67      1604\n",
      "                other       0.74      0.62      0.67     34777\n",
      "         outbrain.com       0.50      0.44      0.47      4426\n",
      "        pinterest.com       0.58      0.53      0.55      1542\n",
      "          polyfill.io       0.62      0.43      0.51      1102\n",
      "              redd.it       0.75      0.67      0.71      1855\n",
      "           reddit.com       0.63      0.59      0.61      1585\n",
      "              scdn.co       0.66      0.90      0.76     13223\n",
      "       slack-edge.com       0.62      0.68      0.65       651\n",
      "          taboola.com       0.68      0.73      0.71     15764\n",
      "            twimg.com       0.55      0.40      0.47       771\n",
      "            twitch.tv       0.23      0.29      0.26       644\n",
      "        twitchcdn.net       0.27      0.30      0.29       228\n",
      "         vimeocdn.com       0.74      0.47      0.58       965\n",
      "\n",
      "             accuracy                           0.69    114580\n",
      "            macro avg       0.65      0.62      0.63    114580\n",
      "         weighted avg       0.69      0.69      0.68    114580\n",
      "\n"
     ]
    }
   ],
   "source": [
    "y_pred_best = best_model_knn.predict(X_test.values)\n",
    "y_pred_best_original = label_encoder.inverse_transform(y_pred_best)\n",
    "\n",
    "print(\"Classification Report on Test Set:\")\n",
    "print(classification_report(y_test, y_pred_best_original))"
   ]
  },
  {
   "cell_type": "code",
   "execution_count": 24,
   "id": "d023aa32-6401-46a0-a9a7-64b8759093c5",
   "metadata": {},
   "outputs": [
    {
     "data": {
      "image/png": "[encoded data removed]",
      "text/plain": [
       "<Figure size 640x480 with 1 Axes>"
      ]
     },
     "metadata": {},
     "output_type": "display_data"
    }
   ],
   "source": [
    "plot_learning_curve(best_model_knn, X_train, y_train, title=\"Learning Curve Best k-nearest neighbour\")\n",
    "plt.show()"
   ]
  },
  {
   "cell_type": "markdown",
   "id": "549ac5f1-9764-4b9d-b8e0-592e6ee05cbe",
   "metadata": {},
   "source": [
    "# Nerual Network"
   ]
  },
  {
   "cell_type": "code",
   "execution_count": 25,
   "id": "fa875836-4678-4339-9f02-6577e05381a1",
   "metadata": {},
   "outputs": [],
   "source": [
    "def create_model(optimizer='adam', activation='relu', dropout_rate=0.2):\n",
    "    model = Sequential([\n",
    "        Dense(128, activation=activation, input_shape=(len(X_train.columns),)),\n",
    "        Dropout(dropout_rate),\n",
    "        Dense(np.max(y_train_encoded) + 1, activation='softmax')\n",
    "    ])\n",
    "    model.compile(optimizer=optimizer,\n",
    "                  loss='sparse_categorical_crossentropy',\n",
    "                  metrics=['accuracy'])\n",
    "    return model"
   ]
  },
  {
   "cell_type": "code",
   "execution_count": 26,
   "id": "e4c9c845-f313-4a2a-9b72-9a8ef77771e3",
   "metadata": {},
   "outputs": [
    {
     "name": "stdout",
     "output_type": "stream",
     "text": [
      "Epoch 1/10\n",
      "4621/4621 [==============================] - 8s 2ms/step - loss: 1.9548 - accuracy: 0.3916\n",
      "Epoch 2/10\n",
      "4621/4621 [==============================] - 7s 2ms/step - loss: 1.7399 - accuracy: 0.4448\n",
      "Epoch 3/10\n",
      "4621/4621 [==============================] - 7s 2ms/step - loss: 1.6723 - accuracy: 0.4639\n",
      "Epoch 4/10\n",
      "4621/4621 [==============================] - 7s 2ms/step - loss: 1.6333 - accuracy: 0.4759\n",
      "Epoch 5/10\n",
      "4621/4621 [==============================] - 7s 1ms/step - loss: 1.6104 - accuracy: 0.4819\n",
      "Epoch 6/10\n",
      "4621/4621 [==============================] - 7s 2ms/step - loss: 1.5931 - accuracy: 0.4868\n",
      "Epoch 7/10\n",
      "4621/4621 [==============================] - 7s 2ms/step - loss: 1.5804 - accuracy: 0.4927\n",
      "Epoch 8/10\n",
      "4621/4621 [==============================] - 7s 2ms/step - loss: 1.5660 - accuracy: 0.4960\n",
      "Epoch 9/10\n",
      "4621/4621 [==============================] - 7s 2ms/step - loss: 1.5601 - accuracy: 0.4972\n",
      "Epoch 10/10\n",
      "4621/4621 [==============================] - 7s 2ms/step - loss: 1.5489 - accuracy: 0.5015\n"
     ]
    },
    {
     "data": {
      "text/plain": [
       "<keras.src.callbacks.History at 0x7fb997e8b010>"
      ]
     },
     "execution_count": 26,
     "metadata": {},
     "output_type": "execute_result"
    }
   ],
   "source": [
    "label_encoder = LabelEncoder()\n",
    "\n",
    "y_train_encoded = label_encoder.fit_transform(y_train)\n",
    "y_test_encoded = label_encoder.fit_transform(y_test)\n",
    "\n",
    "model = create_model()\n",
    "\n",
    "model.fit(X_train, y_train_encoded, epochs=10)"
   ]
  },
  {
   "cell_type": "code",
   "execution_count": 27,
   "id": "5fe0443f-e2da-4629-b098-d1e0c0404d14",
   "metadata": {},
   "outputs": [
    {
     "name": "stdout",
     "output_type": "stream",
     "text": [
      "4621/4621 [==============================] - 4s 845us/step\n"
     ]
    },
    {
     "name": "stderr",
     "output_type": "stream",
     "text": [
      "/opt/conda/lib/python3.11/site-packages/sklearn/metrics/_classification.py:1469: UndefinedMetricWarning: Precision and F-score are ill-defined and being set to 0.0 in labels with no predicted samples. Use `zero_division` parameter to control this behavior.\n",
      "  _warn_prf(average, modifier, msg_start, len(result))\n",
      "/opt/conda/lib/python3.11/site-packages/sklearn/metrics/_classification.py:1469: UndefinedMetricWarning: Precision and F-score are ill-defined and being set to 0.0 in labels with no predicted samples. Use `zero_division` parameter to control this behavior.\n",
      "  _warn_prf(average, modifier, msg_start, len(result))\n"
     ]
    },
    {
     "name": "stdout",
     "output_type": "stream",
     "text": [
      "                       precision    recall  f1-score   support\n",
      "\n",
      "            adnxs.com       0.62      0.34      0.43      3839\n",
      "      ads-twitter.com       0.48      0.10      0.17      1325\n",
      "        chartbeat.com       0.00      0.00      0.00      1413\n",
      "       contextweb.com       0.60      0.33      0.43      2824\n",
      "           disqus.com       0.63      0.12      0.20      3173\n",
      "      everesttech.net       0.73      0.51      0.60      3408\n",
      "  fastly-insights.com       0.96      0.39      0.56      1309\n",
      "           fastly.net       0.82      0.21      0.33      1869\n",
      "            ftcdn.net       0.88      0.83      0.85      3455\n",
      "            giphy.com       0.68      0.37      0.48      3886\n",
      "githubusercontent.com       0.69      0.41      0.51      4271\n",
      "             krxd.net       0.42      0.65      0.51     11144\n",
      "         newrelic.com       0.06      0.00      0.00      2182\n",
      "                other       0.44      0.52      0.48     35083\n",
      "         outbrain.com       0.00      0.00      0.00      5637\n",
      "        pinterest.com       0.69      0.20      0.31      1967\n",
      "          polyfill.io       0.00      0.00      0.00      1270\n",
      "              redd.it       0.61      0.63      0.62      3085\n",
      "           reddit.com       0.61      0.43      0.50      3457\n",
      "              scdn.co       0.66      0.88      0.76     25322\n",
      "       slack-edge.com       0.72      0.22      0.34      1064\n",
      "          taboola.com       0.47      0.69      0.56     21018\n",
      "            twimg.com       0.29      0.00      0.01      1024\n",
      "            twitch.tv       0.47      0.41      0.44      2383\n",
      "        twitchcdn.net       0.99      0.21      0.35      1436\n",
      "         vimeocdn.com       0.00      0.00      0.00      1019\n",
      "\n",
      "             accuracy                           0.53    147863\n",
      "            macro avg       0.52      0.33      0.36    147863\n",
      "         weighted avg       0.52      0.53      0.50    147863\n",
      "\n"
     ]
    },
    {
     "name": "stderr",
     "output_type": "stream",
     "text": [
      "/opt/conda/lib/python3.11/site-packages/sklearn/metrics/_classification.py:1469: UndefinedMetricWarning: Precision and F-score are ill-defined and being set to 0.0 in labels with no predicted samples. Use `zero_division` parameter to control this behavior.\n",
      "  _warn_prf(average, modifier, msg_start, len(result))\n"
     ]
    }
   ],
   "source": [
    "y_pred = model.predict(X_train)\n",
    "\n",
    "y_pred_classes = np.argmax(y_pred, axis=1)\n",
    "\n",
    "y_pred_original = label_encoder.inverse_transform(y_pred_classes)\n",
    "print(classification_report(y_train, y_pred_original))"
   ]
  },
  {
   "cell_type": "code",
   "execution_count": 28,
   "id": "204de5c7-c2b7-496c-83a1-60c5fe8830c3",
   "metadata": {},
   "outputs": [
    {
     "name": "stdout",
     "output_type": "stream",
     "text": [
      "3581/3581 [==============================] - 3s 854us/step\n"
     ]
    },
    {
     "name": "stderr",
     "output_type": "stream",
     "text": [
      "/opt/conda/lib/python3.11/site-packages/sklearn/metrics/_classification.py:1469: UndefinedMetricWarning: Precision and F-score are ill-defined and being set to 0.0 in labels with no predicted samples. Use `zero_division` parameter to control this behavior.\n",
      "  _warn_prf(average, modifier, msg_start, len(result))\n",
      "/opt/conda/lib/python3.11/site-packages/sklearn/metrics/_classification.py:1469: UndefinedMetricWarning: Precision and F-score are ill-defined and being set to 0.0 in labels with no predicted samples. Use `zero_division` parameter to control this behavior.\n",
      "  _warn_prf(average, modifier, msg_start, len(result))\n"
     ]
    },
    {
     "name": "stdout",
     "output_type": "stream",
     "text": [
      "                       precision    recall  f1-score   support\n",
      "\n",
      "            adnxs.com       0.67      0.25      0.36      2942\n",
      "      ads-twitter.com       0.50      0.08      0.14      1135\n",
      "        chartbeat.com       0.00      0.00      0.00      1717\n",
      "       contextweb.com       0.59      0.28      0.38      2383\n",
      "           disqus.com       0.62      0.09      0.15      3246\n",
      "      everesttech.net       0.69      0.44      0.53      2894\n",
      "  fastly-insights.com       0.92      0.41      0.57       686\n",
      "           fastly.net       0.85      0.19      0.32      1455\n",
      "            ftcdn.net       0.84      0.83      0.84      1607\n",
      "            giphy.com       0.44      0.32      0.37      1730\n",
      "githubusercontent.com       0.59      0.29      0.39      4477\n",
      "             krxd.net       0.46      0.65      0.54     11171\n",
      "         newrelic.com       0.13      0.00      0.00      1604\n",
      "                other       0.47      0.52      0.49     34777\n",
      "         outbrain.com       0.00      0.00      0.00      4426\n",
      "        pinterest.com       0.75      0.16      0.26      1542\n",
      "          polyfill.io       0.00      0.00      0.00      1102\n",
      "              redd.it       0.56      0.52      0.54      1855\n",
      "           reddit.com       0.54      0.48      0.51      1585\n",
      "              scdn.co       0.53      0.88      0.66     13223\n",
      "       slack-edge.com       0.64      0.39      0.48       651\n",
      "          taboola.com       0.40      0.57      0.47     15764\n",
      "            twimg.com       0.31      0.01      0.01       771\n",
      "            twitch.tv       0.02      0.07      0.03       644\n",
      "        twitchcdn.net       0.00      0.00      0.00       228\n",
      "         vimeocdn.com       0.00      0.00      0.00       965\n",
      "\n",
      "             accuracy                           0.48    114580\n",
      "            macro avg       0.44      0.29      0.31    114580\n",
      "         weighted avg       0.47      0.48      0.44    114580\n",
      "\n"
     ]
    },
    {
     "name": "stderr",
     "output_type": "stream",
     "text": [
      "/opt/conda/lib/python3.11/site-packages/sklearn/metrics/_classification.py:1469: UndefinedMetricWarning: Precision and F-score are ill-defined and being set to 0.0 in labels with no predicted samples. Use `zero_division` parameter to control this behavior.\n",
      "  _warn_prf(average, modifier, msg_start, len(result))\n"
     ]
    }
   ],
   "source": [
    "y_pred = model.predict(X_test)\n",
    "\n",
    "y_pred_classes = np.argmax(y_pred, axis=1)\n",
    "\n",
    "y_pred_original = label_encoder.inverse_transform(y_pred_classes)\n",
    "print(classification_report(y_test, y_pred_original))"
   ]
  },
  {
   "cell_type": "code",
   "execution_count": 29,
   "id": "d36cb5d3-44cc-4e8b-9004-789c5f65f741",
   "metadata": {},
   "outputs": [
    {
     "name": "stdout",
     "output_type": "stream",
     "text": [
      "Epoch 1/10\n",
      "3697/3697 [==============================] - 7s 2ms/step - loss: 1.9906 - accuracy: 0.3840 - val_loss: 1.7779 - val_accuracy: 0.4457\n",
      "Epoch 2/10\n",
      "3697/3697 [==============================] - 6s 2ms/step - loss: 1.7681 - accuracy: 0.4370 - val_loss: 1.6863 - val_accuracy: 0.4637\n",
      "Epoch 3/10\n",
      "3697/3697 [==============================] - 6s 2ms/step - loss: 1.7075 - accuracy: 0.4562 - val_loss: 1.6403 - val_accuracy: 0.4720\n",
      "Epoch 4/10\n",
      "3697/3697 [==============================] - 7s 2ms/step - loss: 1.6718 - accuracy: 0.4655 - val_loss: 1.6091 - val_accuracy: 0.4977\n",
      "Epoch 5/10\n",
      "3697/3697 [==============================] - 7s 2ms/step - loss: 1.6497 - accuracy: 0.4722 - val_loss: 1.5796 - val_accuracy: 0.5028\n",
      "Epoch 6/10\n",
      "3697/3697 [==============================] - 7s 2ms/step - loss: 1.6245 - accuracy: 0.4798 - val_loss: 1.5578 - val_accuracy: 0.5120\n",
      "Epoch 7/10\n",
      "3697/3697 [==============================] - 7s 2ms/step - loss: 1.6032 - accuracy: 0.4850 - val_loss: 1.5382 - val_accuracy: 0.5092\n",
      "Epoch 8/10\n",
      "3697/3697 [==============================] - 6s 2ms/step - loss: 1.5887 - accuracy: 0.4875 - val_loss: 1.5247 - val_accuracy: 0.5150\n",
      "Epoch 9/10\n",
      "3697/3697 [==============================] - 6s 2ms/step - loss: 1.5788 - accuracy: 0.4919 - val_loss: 1.5102 - val_accuracy: 0.5113\n",
      "Epoch 10/10\n",
      "3697/3697 [==============================] - 7s 2ms/step - loss: 1.5704 - accuracy: 0.4937 - val_loss: 1.5040 - val_accuracy: 0.5190\n"
     ]
    },
    {
     "data": {
      "image/png": "[encoded data removed]",
      "text/plain": [
       "<Figure size 1200x400 with 2 Axes>"
      ]
     },
     "metadata": {},
     "output_type": "display_data"
    }
   ],
   "source": [
    "X_train_s, X_val, y_train_s, y_val = train_test_split(X_train, y_train_encoded, test_size=0.2, random_state=42)\n",
    "\n",
    "num_epochs = 10\n",
    "\n",
    "# Train the model with the training set and validate with the validation set\n",
    "history = create_model().fit(X_train_s, y_train_s, epochs=num_epochs, validation_data=(X_val, y_val))\n",
    "\n",
    "# Extract accuracy and loss values from the history object\n",
    "train_acc = history.history['accuracy']\n",
    "val_acc = history.history['val_accuracy']\n",
    "train_loss = history.history['loss']\n",
    "val_loss = history.history['val_loss']\n",
    "\n",
    "# Create an array of epochs\n",
    "epochs = np.arange(1, num_epochs + 1)\n",
    "\n",
    "# Plot the learning curve for accuracy\n",
    "plt.figure(figsize=(12, 4))\n",
    "plt.subplot(1, 2, 1)\n",
    "plt.plot(epochs, train_acc, label='Training Accuracy')\n",
    "plt.plot(epochs, val_acc, label='Validation Accuracy')\n",
    "plt.title('Training and Validation Accuracy')\n",
    "plt.xlabel('Epochs')\n",
    "plt.ylabel('Accuracy')\n",
    "plt.legend()\n",
    "\n",
    "# Plot the learning curve for loss\n",
    "plt.subplot(1, 2, 2)\n",
    "plt.plot(epochs, train_loss, label='Training Loss')\n",
    "plt.plot(epochs, val_loss, label='Validation Loss')\n",
    "plt.title('Training and Validation Loss')\n",
    "plt.xlabel('Epochs')\n",
    "plt.ylabel('Loss')\n",
    "plt.legend()\n",
    "\n",
    "# Show the plots\n",
    "plt.show()"
   ]
  },
  {
   "cell_type": "code",
   "execution_count": 30,
   "id": "ee16db21-9a89-4cb9-8d69-cae829cf11cc",
   "metadata": {},
   "outputs": [],
   "source": [
    "label_encoder = LabelEncoder()\n",
    "y_train_encoded = label_encoder.fit_transform(y_train)"
   ]
  },
  {
   "cell_type": "code",
   "execution_count": 31,
   "id": "8c42d672-cc3a-46b5-943e-016fb3f320d7",
   "metadata": {},
   "outputs": [
    {
     "name": "stdout",
     "output_type": "stream",
     "text": [
      "Mean validation accuracy for adam, relu, 0.2: 0.4987184166908264\n",
      "Mean validation accuracy for adam, relu, 0.3: 0.49008203744888307\n",
      "Mean validation accuracy for adam, tanh, 0.2: 0.4419767618179321\n",
      "Mean validation accuracy for adam, tanh, 0.3: 0.42367600798606875\n",
      "Mean validation accuracy for sgd, relu, 0.2: 0.42086940407752993\n",
      "Mean validation accuracy for sgd, relu, 0.3: 0.42136979699134824\n",
      "Mean validation accuracy for sgd, tanh, 0.2: 0.35668835043907166\n",
      "Mean validation accuracy for sgd, tanh, 0.3: 0.3483157455921173\n",
      "Best parameters: {'optimizer': 'adam', 'activation': 'relu', 'dropout_rate': 0.2}, Best validation accuracy: 0.4987184166908264\n"
     ]
    }
   ],
   "source": [
    "# Definisci gli iperparametri da cercare\n",
    "param_grid = {\n",
    "    'optimizer': ['adam', 'sgd'],\n",
    "    'activation': ['relu', 'tanh'],\n",
    "    'dropout_rate': [0.2, 0.3]\n",
    "}\n",
    "\n",
    "# Definisci il numero di fold per la cross-validation\n",
    "n_splits = 5\n",
    "stratified_kfold = StratifiedKFold(n_splits=n_splits, shuffle=True, random_state=42)\n",
    "\n",
    "# Inizia la ricerca degli iperparametri e la cross-validation manualmente\n",
    "best_score = 0\n",
    "best_params = {}\n",
    "\n",
    "for optimizer in param_grid['optimizer']:\n",
    "    for activation in param_grid['activation']:\n",
    "        for dropout_rate in param_grid['dropout_rate']:\n",
    "            scores = []\n",
    "            \n",
    "            for train_index, val_index in stratified_kfold.split(X_train, y_train_encoded):\n",
    "                X_train_fold, X_val_fold = X_train.iloc[train_index], X_train.iloc[val_index]\n",
    "                y_train_fold, y_val_fold = y_train_encoded[train_index], y_train_encoded[val_index]\n",
    "\n",
    "                model = create_model(optimizer=optimizer, activation=activation, dropout_rate=dropout_rate)\n",
    "                model.fit(X_train_fold, y_train_fold, epochs=5, verbose=0)\n",
    "\n",
    "                _, score = model.evaluate(X_val_fold, y_val_fold, verbose=0)\n",
    "                scores.append(score)\n",
    "\n",
    "            avg_score = np.mean(scores)\n",
    "            print(f'Mean validation accuracy for {optimizer}, {activation}, {dropout_rate}: {avg_score}')\n",
    "\n",
    "            if avg_score > best_score:\n",
    "                best_score = avg_score\n",
    "                best_params = {'optimizer': optimizer, 'activation': activation, 'dropout_rate': dropout_rate}\n",
    "\n",
    "print(f'Best parameters: {best_params}, Best validation accuracy: {best_score}')\n",
    "# Best parameters: {'optimizer': 'adam', 'activation': 'relu', 'dropout_rate': 0.2}\n",
    "# Best validation accuracy: 0.4987184166908264"
   ]
  },
  {
   "cell_type": "code",
   "execution_count": 32,
   "id": "f236e34b-cd48-47bd-aa4c-a0b96944e57d",
   "metadata": {},
   "outputs": [],
   "source": [
    "#### TEST TO NOT RECOMPILE CROSS VALIDATION\n",
    "best_params = {'optimizer': 'adam', 'activation': 'relu', 'dropout_rate': 0.2}"
   ]
  },
  {
   "cell_type": "code",
   "execution_count": 33,
   "id": "451123fa-b641-41d8-8ef6-f430edfd86ad",
   "metadata": {},
   "outputs": [
    {
     "name": "stdout",
     "output_type": "stream",
     "text": [
      "Epoch 1/10\n",
      "4621/4621 [==============================] - 8s 2ms/step - loss: 1.9610 - accuracy: 0.3902\n",
      "Epoch 2/10\n",
      "4621/4621 [==============================] - 7s 2ms/step - loss: 1.7408 - accuracy: 0.4450\n",
      "Epoch 3/10\n",
      "4621/4621 [==============================] - 7s 2ms/step - loss: 1.6746 - accuracy: 0.4625\n",
      "Epoch 4/10\n",
      "4621/4621 [==============================] - 7s 2ms/step - loss: 1.6383 - accuracy: 0.4741\n",
      "Epoch 5/10\n",
      "4621/4621 [==============================] - 7s 1ms/step - loss: 1.6124 - accuracy: 0.4808\n",
      "Epoch 6/10\n",
      "4621/4621 [==============================] - 7s 1ms/step - loss: 1.5958 - accuracy: 0.4848\n",
      "Epoch 7/10\n",
      "4621/4621 [==============================] - 7s 2ms/step - loss: 1.5805 - accuracy: 0.4890\n",
      "Epoch 8/10\n",
      "4621/4621 [==============================] - 7s 2ms/step - loss: 1.5697 - accuracy: 0.4929\n",
      "Epoch 9/10\n",
      "4621/4621 [==============================] - 7s 2ms/step - loss: 1.5604 - accuracy: 0.4958\n",
      "Epoch 10/10\n",
      "4621/4621 [==============================] - 7s 1ms/step - loss: 1.5517 - accuracy: 0.4999\n"
     ]
    },
    {
     "data": {
      "text/plain": [
       "<keras.src.callbacks.History at 0x7fb3c4a0de50>"
      ]
     },
     "execution_count": 33,
     "metadata": {},
     "output_type": "execute_result"
    }
   ],
   "source": [
    "final_model = create_model(**best_params)\n",
    "final_model.fit(X_train, y_train_encoded, epochs=10)"
   ]
  }
 ],
 "metadata": {
  "kernelspec": {
   "display_name": "Python 3 (ipykernel)",
   "language": "python",
   "name": "python3"
  },
  "language_info": {
   "codemirror_mode": {
    "name": "ipython",
    "version": 3
   },
   "file_extension": ".py",
   "mimetype": "text/x-python",
   "name": "python",
   "nbconvert_exporter": "python",
   "pygments_lexer": "ipython3",
   "version": "3.11.5"
  }
 },
 "nbformat": 4,
 "nbformat_minor": 5
}
